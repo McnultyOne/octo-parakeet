{
 "cells": [
  {
   "cell_type": "code",
   "execution_count": null,
   "metadata": {
    "collapsed": true
   },
   "outputs": [],
   "source": []
  },
  {
   "cell_type": "code",
   "execution_count": null,
   "metadata": {
    "collapsed": true
   },
   "outputs": [],
   "source": []
  },
  {
   "cell_type": "code",
   "execution_count": 1,
   "metadata": {
    "collapsed": true
   },
   "outputs": [],
   "source": [
    "def getNameForWiki(name):\n",
    "    name = name.replace(' ','_')\n",
    "    name = name.replace('&','%26')\n",
    "    name = name.replace(\"'\",\"%27\")\n",
    "    name = name.replace(\".\",\"\")\n",
    "    \n",
    "    return name"
   ]
  },
  {
   "cell_type": "code",
   "execution_count": 2,
   "metadata": {
    "collapsed": true
   },
   "outputs": [],
   "source": [
    "def getDataFromWiki(origName, soup):\n",
    "    valList = []\n",
    "    \n",
    "    columns=('name', 'Fate','Founded','HeadQuarters','Type','TotalEmployees','CurStatus', 'Defunct')\n",
    "    \n",
    "    fate = None\n",
    "    founded = None\n",
    "    headquarters = None\n",
    "    comType = None\n",
    "    totalEmployees = None\n",
    "    curStatus = None\n",
    "    drFunct = None\n",
    "    \n",
    "    cType = soup.find(class_='infobox vcard').find_all('tr')\n",
    "\n",
    "    for items in cType:\n",
    "        try:\n",
    "            curTitle = (items.find('th').text).strip()\n",
    "            if curTitle == 'Fate':\n",
    "                fate = items.find('td').text\n",
    "            if  curTitle == 'Founded':\n",
    "                founded = items.find('td').text\n",
    "            if  curTitle == 'Headquarters':\n",
    "                headquarters = items.find('td').text\n",
    "            if  curTitle == 'Type':\n",
    "                comType = items.find('td').text\n",
    "            if  (curTitle == 'Employees' or curTitle == 'Number of employees'):\n",
    "                totalEmployees = items.find('td').text\n",
    "            if  curTitle == 'Current Status':\n",
    "                curStatus = items.find('td').text\n",
    "            if  curTitle == 'Defunct':\n",
    "                drFunct = items.find('td').text\n",
    "\n",
    "        except:\n",
    "            pass\n",
    "    \n",
    "    valList.append(origName)\n",
    "    valList.append(fate)\n",
    "    valList.append(founded)\n",
    "    valList.append(headquarters)\n",
    "    valList.append(comType)\n",
    "    valList.append(totalEmployees)\n",
    "    valList.append(curStatus)\n",
    "    valList.append(drFunct)\n",
    "    \n",
    "    return(pd.DataFrame([valList], columns=columns))\n",
    "\n"
   ]
  },
  {
   "cell_type": "code",
   "execution_count": null,
   "metadata": {
    "collapsed": true
   },
   "outputs": [],
   "source": [
    "mainURL = 'https://en.wikipedia.org/wiki/'\n",
    "\n",
    "headers = {\n",
    "    'user-Agent': 'Mozilla/5.0'\n",
    "    \n",
    "}\n",
    "\n",
    "statusList = []\n",
    "wikiVals = pd.DataFrame(columns=('name', 'Fate','Founded','HeadQuarters','Type','TotalEmployees','CurStatus', 'Defunct'))\n",
    "data_dfs = []\n",
    "count = 0 \n",
    "\n",
    "for origName in companyNameList:\n",
    "    name = getNameForWiki(origName)\n",
    "    \n",
    "    url = mainURL + name\n",
    "    response = requests.get(url, headers = headers)\n",
    "    page = response.text\n",
    "    soup = BeautifulSoup(page, \"lxml\")\n",
    "\n",
    "    #print(name + '  -- '  + str(response.status_code))\n",
    "    if response.status_code < 300:\n",
    "        statusList.append([origName,1])\n",
    "        try:\n",
    "            temp_df = getDataFromWiki(origName,soup)\n",
    "            data_dfs.append(temp_df)\n",
    "        except:\n",
    "            statusList.append([origName,0])\n",
    "    else:\n",
    "        statusList.append([origName,0])\n",
    "    \n",
    "    \n",
    "    if count > 1 and count%100 == 0:\n",
    "        wikiVals = pd.concat(data_dfs)\n",
    "        wikiVals.to_csv('/Users/deepakgautam/octo-parakeet/wikiTable.csv', encoding='utf-8')\n",
    "        \n",
    "        \n",
    "    if count > 1  and count%10 == 0:\n",
    "        with open(\"/Users/deepakgautam/octo-parakeet/wikiProgress.txt\", \"a\") as myfile:\n",
    "            myfile.write(\"Scrapping complete for \" + str(count + 1) + \" movies. \\n\")\n",
    "            \n",
    "    count += 1\n",
    "    \n",
    "wikiVals = pd.concat(data_dfs)\n",
    "\n",
    "    \n",
    "\n",
    "    \n",
    "\n",
    "\n",
    "\n"
   ]
  }
 ],
 "metadata": {
  "kernelspec": {
   "display_name": "Python 3",
   "language": "python",
   "name": "python3"
  },
  "language_info": {
   "codemirror_mode": {
    "name": "ipython",
    "version": 3
   },
   "file_extension": ".py",
   "mimetype": "text/x-python",
   "name": "python",
   "nbconvert_exporter": "python",
   "pygments_lexer": "ipython3",
   "version": "3.5.1"
  }
 },
 "nbformat": 4,
 "nbformat_minor": 0
}
