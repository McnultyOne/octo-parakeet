{
 "cells": [
  {
   "cell_type": "code",
   "execution_count": 4,
   "metadata": {
    "collapsed": true
   },
   "outputs": [],
   "source": [
    "import numpy as np\n",
    "import pandas as pd\n",
    "import statsmodels.api as sm\n",
    "import matplotlib.pyplot as plt\n",
    "from patsy import dmatrices\n",
    "from sklearn.cross_validation import train_test_split\n",
    "%matplotlib inline"
   ]
  },
  {
   "cell_type": "code",
   "execution_count": 5,
   "metadata": {
    "collapsed": false
   },
   "outputs": [],
   "source": [
    "# load dataset\n",
    "dta = pd.read_csv(\"main_df_Aug1.csv\")"
   ]
  },
  {
   "cell_type": "code",
   "execution_count": 9,
   "metadata": {
    "collapsed": false
   },
   "outputs": [
    {
     "data": {
      "text/plain": [
       "(array([   16.,   306.,   824.,  4104.,  5721.,  9157.,  5599.,  2125.,\n",
       "          701.,    87.]),\n",
       " array([ 1.4 ,  1.76,  2.12,  2.48,  2.84,  3.2 ,  3.56,  3.92,  4.28,\n",
       "         4.64,  5.  ]),\n",
       " <a list of 10 Patch objects>)"
      ]
     },
     "execution_count": 9,
     "metadata": {},
     "output_type": "execute_result"
    },
    {
     "data": {
      "image/png": "[encoded data removed]",
      "text/plain": [
       "<matplotlib.figure.Figure at 0x1182b46a0>"
      ]
     },
     "metadata": {},
     "output_type": "display_data"
    }
   ],
   "source": [
    "plt.hist(list(dta['overallRating']))"
   ]
  },
  {
   "cell_type": "code",
   "execution_count": 20,
   "metadata": {
    "collapsed": false
   },
   "outputs": [
    {
     "data": {
      "text/plain": [
       "Index(['Unnamed: 0', 'name', 'industry', 'sectorName', 'overallRating',\n",
       "       'compensationAndBenefitsRating', 'careerOpportunitiesRating',\n",
       "       'recommendToFriendRating', 'cultureAndValuesRating',\n",
       "       'workLifeBalanceRating', 'seniorLeadershipRating', 'numberOfRatings',\n",
       "       'id', 'industryName', 'industryId', 'ceo', 'ceoname', 'ceonumratings',\n",
       "       'ceopctapprove', 'ceopctdisapprove', 'ceotitle', 'goodCompany'],\n",
       "      dtype='object')"
      ]
     },
     "execution_count": 20,
     "metadata": {},
     "output_type": "execute_result"
    }
   ],
   "source": [
    "dta.columns"
   ]
  },
  {
   "cell_type": "code",
   "execution_count": 15,
   "metadata": {
    "collapsed": false
   },
   "outputs": [],
   "source": [
    "# add \"affair\" column: 1 represents having affairs, 0 represents not\n",
    "dta['goodCompany'] = (dta.overallRating >= 3.8).astype(int)"
   ]
  },
  {
   "cell_type": "code",
   "execution_count": 24,
   "metadata": {
    "collapsed": false
   },
   "outputs": [
    {
     "data": {
      "text/plain": [
       "count    28640.000000\n",
       "mean       698.802060\n",
       "std       1559.971563\n",
       "min         48.000000\n",
       "25%        165.000000\n",
       "50%        307.000000\n",
       "75%        638.000000\n",
       "max      22911.000000\n",
       "Name: numberOfRatings, dtype: float64"
      ]
     },
     "execution_count": 24,
     "metadata": {},
     "output_type": "execute_result"
    }
   ],
   "source": [
    "dta['numberOfRatings'].describe()"
   ]
  },
  {
   "cell_type": "markdown",
   "metadata": {},
   "source": [
    "# Data Visualization "
   ]
  },
  {
   "cell_type": "code",
   "execution_count": 25,
   "metadata": {
    "collapsed": true
   },
   "outputs": [],
   "source": [
    "# show plots in the notebook\n",
    "%matplotlib inline"
   ]
  },
  {
   "cell_type": "markdown",
   "metadata": {},
   "source": [
    "# Classification Models"
   ]
  },
  {
   "cell_type": "code",
   "execution_count": 28,
   "metadata": {
    "collapsed": false
   },
   "outputs": [
    {
     "data": {
      "text/plain": [
       "Index(['Unnamed: 0', 'name', 'industry', 'sectorName', 'overallRating',\n",
       "       'compensationAndBenefitsRating', 'careerOpportunitiesRating',\n",
       "       'recommendToFriendRating', 'cultureAndValuesRating',\n",
       "       'workLifeBalanceRating', 'seniorLeadershipRating', 'numberOfRatings',\n",
       "       'id', 'industryName', 'industryId', 'ceo', 'ceoname', 'ceonumratings',\n",
       "       'ceopctapprove', 'ceopctdisapprove', 'ceotitle', 'goodCompany'],\n",
       "      dtype='object')"
      ]
     },
     "execution_count": 28,
     "metadata": {},
     "output_type": "execute_result"
    }
   ],
   "source": [
    "dta.columns"
   ]
  },
  {
   "cell_type": "code",
   "execution_count": 33,
   "metadata": {
    "collapsed": false
   },
   "outputs": [],
   "source": [
    "X = dta[['numberOfRatings','compensationAndBenefitsRating','careerOpportunitiesRating', \\\n",
    "        'recommendToFriendRating','cultureAndValuesRating','workLifeBalanceRating','seniorLeadershipRating', \\\n",
    "        'ceonumratings','ceopctapprove']]\n",
    "\n",
    "y = dta['goodCompany']"
   ]
  },
  {
   "cell_type": "code",
   "execution_count": 34,
   "metadata": {
    "collapsed": false
   },
   "outputs": [],
   "source": [
    "X_train, X_test, y_train, y_test = train_test_split(X, y, test_size=0.3, random_state=42)"
   ]
  },
  {
   "cell_type": "code",
   "execution_count": 38,
   "metadata": {
    "collapsed": true
   },
   "outputs": [],
   "source": [
    "## Here are some possible models to use, but feel free to import whichever ones you like\n",
    "\n",
    "from sklearn.ensemble import RandomForestClassifier, GradientBoostingClassifier\n",
    "from sklearn.linear_model import LogisticRegression\n",
    "from sklearn.metrics import roc_auc_score, roc_curve"
   ]
  },
  {
   "cell_type": "code",
   "execution_count": 36,
   "metadata": {
    "collapsed": true
   },
   "outputs": [],
   "source": [
    "## Here are the precision-recall curve and log-likelihood computation functions\n",
    "\n",
    "import numpy as np\n",
    "import matplotlib.pyplot as plt\n",
    "\n",
    "\n",
    "def pr_curve(truthvec, scorevec, digit_prec=2):\n",
    "    threshvec = np.unique(np.round(scorevec,digit_prec))\n",
    "    numthresh = len(threshvec)\n",
    "    tpvec = np.zeros(numthresh)\n",
    "    fpvec = np.zeros(numthresh)\n",
    "    fnvec = np.zeros(numthresh)\n",
    "\n",
    "    for i in range(numthresh):\n",
    "        thresh = threshvec[i]\n",
    "        tpvec[i] = sum(truthvec[scorevec>=thresh])\n",
    "        fpvec[i] = sum(1-truthvec[scorevec>=thresh])\n",
    "        fnvec[i] = sum(truthvec[scorevec<thresh])\n",
    "    recallvec = tpvec/(tpvec + fnvec)\n",
    "    precisionvec = tpvec/(tpvec + fpvec)\n",
    "    plt.plot(precisionvec,recallvec)\n",
    "    plt.axis([0, 1, 0, 1])\n",
    "    return (recallvec, precisionvec, threshvec)\n",
    "\n",
    "def log_lik_binary(truthvec, probvec):\n",
    "    return np.sum((np.log(probvec)*truthvec) + (np.log(1-probvec)*(1-truthvec)))"
   ]
  },
  {
   "cell_type": "code",
   "execution_count": 37,
   "metadata": {
    "collapsed": true
   },
   "outputs": [],
   "source": [
    "# Logistic Regression\n",
    "model_lr = LogisticRegression()\n",
    "model_lr.fit(X_train, y_train)\n",
    "pred_vals_lr = model_lr.predict_proba(X_test)\n",
    "\n"
   ]
  },
  {
   "cell_type": "code",
   "execution_count": 39,
   "metadata": {
    "collapsed": false
   },
   "outputs": [
    {
     "data": {
      "text/plain": [
       "-2177.7905322362194"
      ]
     },
     "execution_count": 39,
     "metadata": {},
     "output_type": "execute_result"
    }
   ],
   "source": [
    "log_lik_binary(y_test,pred_vals_lr[:,1])"
   ]
  },
  {
   "cell_type": "code",
   "execution_count": 40,
   "metadata": {
    "collapsed": false
   },
   "outputs": [
    {
     "data": {
      "image/png": "[encoded data removed]",
      "text/plain": [
       "<matplotlib.figure.Figure at 0x1194bb668>"
      ]
     },
     "metadata": {},
     "output_type": "display_data"
    }
   ],
   "source": [
    "pr_curve(y_test,pred_vals_lr[:,1]);"
   ]
  },
  {
   "cell_type": "code",
   "execution_count": 41,
   "metadata": {
    "collapsed": false
   },
   "outputs": [
    {
     "data": {
      "text/plain": [
       "[<matplotlib.lines.Line2D at 0x119cf7550>]"
      ]
     },
     "execution_count": 41,
     "metadata": {},
     "output_type": "execute_result"
    },
    {
     "data": {
      "image/png": "[encoded data removed]",
      "text/plain": [
       "<matplotlib.figure.Figure at 0x1194cdba8>"
      ]
     },
     "metadata": {},
     "output_type": "display_data"
    }
   ],
   "source": [
    "fpr, tpr, thresholds = roc_curve(y_test,pred_vals_lr[:,1])\n",
    "plt.plot(fpr, tpr)"
   ]
  },
  {
   "cell_type": "code",
   "execution_count": 42,
   "metadata": {
    "collapsed": false
   },
   "outputs": [
    {
     "data": {
      "text/plain": [
       "0.92751639134915398"
      ]
     },
     "execution_count": 42,
     "metadata": {},
     "output_type": "execute_result"
    }
   ],
   "source": [
    "roc_auc_score(y_test,pred_vals_lr[:,1])"
   ]
  },
  {
   "cell_type": "code",
   "execution_count": null,
   "metadata": {
    "collapsed": true
   },
   "outputs": [],
   "source": []
  }
 ],
 "metadata": {
  "kernelspec": {
   "display_name": "Python 3",
   "language": "python",
   "name": "python3"
  },
  "language_info": {
   "codemirror_mode": {
    "name": "ipython",
    "version": 3
   },
   "file_extension": ".py",
   "mimetype": "text/x-python",
   "name": "python",
   "nbconvert_exporter": "python",
   "pygments_lexer": "ipython3",
   "version": "3.5.1"
  }
 },
 "nbformat": 4,
 "nbformat_minor": 0
}
