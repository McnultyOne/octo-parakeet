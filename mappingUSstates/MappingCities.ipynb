{
 "cells": [
  {
   "cell_type": "code",
   "execution_count": 1,
   "metadata": {
    "collapsed": true
   },
   "outputs": [],
   "source": [
    "import numpy as np\n",
    "import pandas as pd\n",
    "import statsmodels.api as sm\n",
    "import matplotlib.pyplot as plt\n",
    "from patsy import dmatrices\n",
    "from sklearn.cross_validation import train_test_split\n",
    "%matplotlib inline"
   ]
  },
  {
   "cell_type": "code",
   "execution_count": 2,
   "metadata": {
    "collapsed": false
   },
   "outputs": [],
   "source": [
    "#crunchinvestments = pd.read_csv('D:/Dropbox/Prog/Py16/AAMTS/octo-parakeet/Crunchbase/investments.csv')\n",
    "#crunchcompanies = pd.read_csv('D:/Dropbox/Prog/Py16/AAMTS/octo-parakeet/Crunchbase/companies.csv')\n",
    "#crunchaquisitions = pd.read_csv('D:/Dropbox/Prog/Py16/AAMTS/octo-parakeet/Crunchbase/acquisitions.csv')\n",
    "#crunchrounds = pd.read_csv('D:/Dropbox/Prog/Py16/AAMTS/octo-parakeet/Crunchbase/rounds.csv')\n",
    "#crunchadditions = pd.read_csv('D:/Dropbox/Prog/Py16/AAMTS/octo-parakeet/Crunchbase/additions.csv')\n",
    "\n",
    "crunchinvestments = pd.read_csv('/Users/jeffcoggshall/Dropbox/Prog/Py16/AAMTS/octo-parakeet/Crunchbase/investments.csv')\n",
    "crunchcompanies = pd.read_csv('/Users/jeffcoggshall/Dropbox/Prog/Py16/AAMTS/octo-parakeet/Crunchbase/companies.csv')\n",
    "crunchaquisitions = pd.read_csv('/Users/jeffcoggshall/Dropbox/Prog/Py16/AAMTS/octo-parakeet/Crunchbase/acquisitions.csv')\n",
    "crunchrounds = pd.read_csv('/Users/jeffcoggshall/Dropbox/Prog/Py16/AAMTS/octo-parakeet/Crunchbase/rounds.csv')\n",
    "crunchadditions = pd.read_csv('/Users/jeffcoggshall/Dropbox/Prog/Py16/AAMTS/octo-parakeet/Crunchbase/additions.csv')"
   ]
  },
  {
   "cell_type": "code",
   "execution_count": 3,
   "metadata": {
    "collapsed": false
   },
   "outputs": [
    {
     "data": {
      "text/html": [
       "<div>\n",
       "<table border=\"1\" class=\"dataframe\">\n",
       "  <thead>\n",
       "    <tr style=\"text-align: right;\">\n",
       "      <th></th>\n",
       "      <th>company_permalink</th>\n",
       "      <th>company_name</th>\n",
       "      <th>company_category_list</th>\n",
       "      <th>company_country_code</th>\n",
       "      <th>company_state_code</th>\n",
       "      <th>company_region</th>\n",
       "      <th>company_city</th>\n",
       "      <th>investor_permalink</th>\n",
       "      <th>investor_name</th>\n",
       "      <th>investor_country_code</th>\n",
       "      <th>investor_state_code</th>\n",
       "      <th>investor_region</th>\n",
       "      <th>investor_city</th>\n",
       "      <th>funding_round_permalink</th>\n",
       "      <th>funding_round_type</th>\n",
       "      <th>funding_round_code</th>\n",
       "      <th>funded_at</th>\n",
       "      <th>raised_amount_usd</th>\n",
       "    </tr>\n",
       "  </thead>\n",
       "  <tbody>\n",
       "    <tr>\n",
       "      <th>0</th>\n",
       "      <td>/organization/0-6-com</td>\n",
       "      <td>0-6.com</td>\n",
       "      <td>Curated Web</td>\n",
       "      <td>CHN</td>\n",
       "      <td>22</td>\n",
       "      <td>Beijing</td>\n",
       "      <td>Beijing</td>\n",
       "      <td>/organization/dt-capital-partners</td>\n",
       "      <td>DT Capital Partners</td>\n",
       "      <td>CHN</td>\n",
       "      <td>23</td>\n",
       "      <td>Shanghai</td>\n",
       "      <td>Shanghai</td>\n",
       "      <td>/funding-round/5727accaeaa57461bd22a9bdd945382d</td>\n",
       "      <td>venture</td>\n",
       "      <td>A</td>\n",
       "      <td>2008-03-19</td>\n",
       "      <td>2000000.0</td>\n",
       "    </tr>\n",
       "    <tr>\n",
       "      <th>1</th>\n",
       "      <td>/organization/004-technologies</td>\n",
       "      <td>004 Technologies</td>\n",
       "      <td>Software</td>\n",
       "      <td>USA</td>\n",
       "      <td>IL</td>\n",
       "      <td>Springfield, Illinois</td>\n",
       "      <td>Champaign</td>\n",
       "      <td>/organization/venturecapital-de</td>\n",
       "      <td>VCDE Venture Partners</td>\n",
       "      <td>DEU</td>\n",
       "      <td>5</td>\n",
       "      <td>Frankfurt</td>\n",
       "      <td>Frankfurt</td>\n",
       "      <td>/funding-round/1278dd4e6a37fa4b7d7e06c21b3c1830</td>\n",
       "      <td>venture</td>\n",
       "      <td>NaN</td>\n",
       "      <td>2014-07-24</td>\n",
       "      <td>NaN</td>\n",
       "    </tr>\n",
       "  </tbody>\n",
       "</table>\n",
       "</div>"
      ],
      "text/plain": [
       "                company_permalink      company_name company_category_list  \\\n",
       "0           /organization/0-6-com           0-6.com           Curated Web   \n",
       "1  /organization/004-technologies  004 Technologies              Software   \n",
       "\n",
       "  company_country_code company_state_code         company_region company_city  \\\n",
       "0                  CHN                 22                Beijing      Beijing   \n",
       "1                  USA                 IL  Springfield, Illinois    Champaign   \n",
       "\n",
       "                  investor_permalink          investor_name  \\\n",
       "0  /organization/dt-capital-partners    DT Capital Partners   \n",
       "1    /organization/venturecapital-de  VCDE Venture Partners   \n",
       "\n",
       "  investor_country_code investor_state_code investor_region investor_city  \\\n",
       "0                   CHN                  23        Shanghai      Shanghai   \n",
       "1                   DEU                   5       Frankfurt     Frankfurt   \n",
       "\n",
       "                           funding_round_permalink funding_round_type  \\\n",
       "0  /funding-round/5727accaeaa57461bd22a9bdd945382d            venture   \n",
       "1  /funding-round/1278dd4e6a37fa4b7d7e06c21b3c1830            venture   \n",
       "\n",
       "  funding_round_code   funded_at  raised_amount_usd  \n",
       "0                  A  2008-03-19          2000000.0  \n",
       "1                NaN  2014-07-24                NaN  "
      ]
     },
     "execution_count": 3,
     "metadata": {},
     "output_type": "execute_result"
    }
   ],
   "source": [
    "crunchinvestments.head(2)"
   ]
  },
  {
   "cell_type": "code",
   "execution_count": 4,
   "metadata": {
    "collapsed": false
   },
   "outputs": [
    {
     "data": {
      "text/html": [
       "<div>\n",
       "<table border=\"1\" class=\"dataframe\">\n",
       "  <thead>\n",
       "    <tr style=\"text-align: right;\">\n",
       "      <th></th>\n",
       "      <th>permalink</th>\n",
       "      <th>name</th>\n",
       "      <th>homepage_url</th>\n",
       "      <th>category_list</th>\n",
       "      <th>funding_total_usd</th>\n",
       "      <th>status</th>\n",
       "      <th>country_code</th>\n",
       "      <th>state_code</th>\n",
       "      <th>region</th>\n",
       "      <th>city</th>\n",
       "      <th>funding_rounds</th>\n",
       "      <th>founded_at</th>\n",
       "      <th>first_funding_at</th>\n",
       "      <th>last_funding_at</th>\n",
       "    </tr>\n",
       "  </thead>\n",
       "  <tbody>\n",
       "    <tr>\n",
       "      <th>0</th>\n",
       "      <td>/organization/-fame</td>\n",
       "      <td>#fame</td>\n",
       "      <td>http://livfame.com</td>\n",
       "      <td>Media</td>\n",
       "      <td>10000000</td>\n",
       "      <td>operating</td>\n",
       "      <td>IND</td>\n",
       "      <td>16</td>\n",
       "      <td>Mumbai</td>\n",
       "      <td>Mumbai</td>\n",
       "      <td>1</td>\n",
       "      <td>NaN</td>\n",
       "      <td>2015-01-05</td>\n",
       "      <td>2015-01-05</td>\n",
       "    </tr>\n",
       "    <tr>\n",
       "      <th>1</th>\n",
       "      <td>/organization/-qounter</td>\n",
       "      <td>:Qounter</td>\n",
       "      <td>http://www.qounter.com</td>\n",
       "      <td>Application Platforms|Real Time|Social Network...</td>\n",
       "      <td>700000</td>\n",
       "      <td>operating</td>\n",
       "      <td>USA</td>\n",
       "      <td>DE</td>\n",
       "      <td>DE - Other</td>\n",
       "      <td>Delaware City</td>\n",
       "      <td>2</td>\n",
       "      <td>2014-09-04</td>\n",
       "      <td>2014-03-01</td>\n",
       "      <td>2014-10-14</td>\n",
       "    </tr>\n",
       "  </tbody>\n",
       "</table>\n",
       "</div>"
      ],
      "text/plain": [
       "                permalink      name            homepage_url  \\\n",
       "0     /organization/-fame     #fame      http://livfame.com   \n",
       "1  /organization/-qounter  :Qounter  http://www.qounter.com   \n",
       "\n",
       "                                       category_list funding_total_usd  \\\n",
       "0                                              Media          10000000   \n",
       "1  Application Platforms|Real Time|Social Network...            700000   \n",
       "\n",
       "      status country_code state_code      region           city  \\\n",
       "0  operating          IND         16      Mumbai         Mumbai   \n",
       "1  operating          USA         DE  DE - Other  Delaware City   \n",
       "\n",
       "   funding_rounds  founded_at first_funding_at last_funding_at  \n",
       "0               1         NaN       2015-01-05      2015-01-05  \n",
       "1               2  2014-09-04       2014-03-01      2014-10-14  "
      ]
     },
     "execution_count": 4,
     "metadata": {},
     "output_type": "execute_result"
    }
   ],
   "source": [
    "crunchcompanies.head(2)"
   ]
  },
  {
   "cell_type": "code",
   "execution_count": 5,
   "metadata": {
    "collapsed": false
   },
   "outputs": [
    {
     "data": {
      "text/html": [
       "<div>\n",
       "<table border=\"1\" class=\"dataframe\">\n",
       "  <thead>\n",
       "    <tr style=\"text-align: right;\">\n",
       "      <th></th>\n",
       "      <th>company_permalink</th>\n",
       "      <th>company_name</th>\n",
       "      <th>company_category_list</th>\n",
       "      <th>company_country_code</th>\n",
       "      <th>company_state_code</th>\n",
       "      <th>company_region</th>\n",
       "      <th>company_city</th>\n",
       "      <th>acquirer_permalink</th>\n",
       "      <th>acquirer_name</th>\n",
       "      <th>acquirer_category_list</th>\n",
       "      <th>acquirer_country_code</th>\n",
       "      <th>acquirer_state_code</th>\n",
       "      <th>acquirer_region</th>\n",
       "      <th>acquirer_city</th>\n",
       "      <th>acquired_at</th>\n",
       "      <th>acquired_month</th>\n",
       "      <th>price_amount</th>\n",
       "      <th>price_currency_code</th>\n",
       "    </tr>\n",
       "  </thead>\n",
       "  <tbody>\n",
       "    <tr>\n",
       "      <th>0</th>\n",
       "      <td>/organization/003-ru</td>\n",
       "      <td>003.RU</td>\n",
       "      <td>Consumer Electronics|Electronics|Internet</td>\n",
       "      <td>RUS</td>\n",
       "      <td>48</td>\n",
       "      <td>Moscow</td>\n",
       "      <td>Moscow</td>\n",
       "      <td>/organization/media-saturn</td>\n",
       "      <td>Media Saturn</td>\n",
       "      <td>Enterprise Software|Media|Sales and Marketing</td>\n",
       "      <td>ESP</td>\n",
       "      <td>56</td>\n",
       "      <td>Barcelona</td>\n",
       "      <td>Barcelona</td>\n",
       "      <td>2012-07-23</td>\n",
       "      <td>2012-07</td>\n",
       "      <td>NaN</td>\n",
       "      <td>USD</td>\n",
       "    </tr>\n",
       "    <tr>\n",
       "      <th>1</th>\n",
       "      <td>/organization/0958572-b-c-ltd</td>\n",
       "      <td>0958572 B.C. Ltd.</td>\n",
       "      <td>NaN</td>\n",
       "      <td>NaN</td>\n",
       "      <td>NaN</td>\n",
       "      <td>NaN</td>\n",
       "      <td>NaN</td>\n",
       "      <td>/organization/atlas-intellectual-property-mana...</td>\n",
       "      <td>ATLAS Intellectual Property Management Co.</td>\n",
       "      <td>Finance|FinTech|Mobile|Telecommunications</td>\n",
       "      <td>USA</td>\n",
       "      <td>WA</td>\n",
       "      <td>Seattle</td>\n",
       "      <td>Seattle</td>\n",
       "      <td>2012-02-02</td>\n",
       "      <td>2012-02</td>\n",
       "      <td>9000000.0</td>\n",
       "      <td>USD</td>\n",
       "    </tr>\n",
       "  </tbody>\n",
       "</table>\n",
       "</div>"
      ],
      "text/plain": [
       "               company_permalink       company_name  \\\n",
       "0           /organization/003-ru             003.RU   \n",
       "1  /organization/0958572-b-c-ltd  0958572 B.C. Ltd.   \n",
       "\n",
       "                       company_category_list company_country_code  \\\n",
       "0  Consumer Electronics|Electronics|Internet                  RUS   \n",
       "1                                        NaN                  NaN   \n",
       "\n",
       "  company_state_code company_region company_city  \\\n",
       "0                 48         Moscow       Moscow   \n",
       "1                NaN            NaN          NaN   \n",
       "\n",
       "                                  acquirer_permalink  \\\n",
       "0                         /organization/media-saturn   \n",
       "1  /organization/atlas-intellectual-property-mana...   \n",
       "\n",
       "                                acquirer_name  \\\n",
       "0                                Media Saturn   \n",
       "1  ATLAS Intellectual Property Management Co.   \n",
       "\n",
       "                          acquirer_category_list acquirer_country_code  \\\n",
       "0  Enterprise Software|Media|Sales and Marketing                   ESP   \n",
       "1      Finance|FinTech|Mobile|Telecommunications                   USA   \n",
       "\n",
       "  acquirer_state_code acquirer_region acquirer_city acquired_at  \\\n",
       "0                  56       Barcelona     Barcelona  2012-07-23   \n",
       "1                  WA         Seattle       Seattle  2012-02-02   \n",
       "\n",
       "  acquired_month  price_amount price_currency_code  \n",
       "0        2012-07           NaN                 USD  \n",
       "1        2012-02     9000000.0                 USD  "
      ]
     },
     "execution_count": 5,
     "metadata": {},
     "output_type": "execute_result"
    }
   ],
   "source": [
    "crunchaquisitions.head(2)"
   ]
  },
  {
   "cell_type": "code",
   "execution_count": 6,
   "metadata": {
    "collapsed": false
   },
   "outputs": [
    {
     "data": {
      "text/html": [
       "<div>\n",
       "<table border=\"1\" class=\"dataframe\">\n",
       "  <thead>\n",
       "    <tr style=\"text-align: right;\">\n",
       "      <th></th>\n",
       "      <th>company_permalink</th>\n",
       "      <th>company_name</th>\n",
       "      <th>company_category_list</th>\n",
       "      <th>company_country_code</th>\n",
       "      <th>company_state_code</th>\n",
       "      <th>company_region</th>\n",
       "      <th>company_city</th>\n",
       "      <th>funding_round_permalink</th>\n",
       "      <th>funding_round_type</th>\n",
       "      <th>funding_round_code</th>\n",
       "      <th>funded_at</th>\n",
       "      <th>raised_amount_usd</th>\n",
       "    </tr>\n",
       "  </thead>\n",
       "  <tbody>\n",
       "    <tr>\n",
       "      <th>0</th>\n",
       "      <td>/organization/-fame</td>\n",
       "      <td>#fame</td>\n",
       "      <td>Media</td>\n",
       "      <td>IND</td>\n",
       "      <td>16</td>\n",
       "      <td>Mumbai</td>\n",
       "      <td>Mumbai</td>\n",
       "      <td>/funding-round/9a01d05418af9f794eebff7ace91f638</td>\n",
       "      <td>venture</td>\n",
       "      <td>B</td>\n",
       "      <td>2015-01-05</td>\n",
       "      <td>10000000.0</td>\n",
       "    </tr>\n",
       "    <tr>\n",
       "      <th>1</th>\n",
       "      <td>/organization/-qounter</td>\n",
       "      <td>:Qounter</td>\n",
       "      <td>Application Platforms|Real Time|Social Network...</td>\n",
       "      <td>USA</td>\n",
       "      <td>DE</td>\n",
       "      <td>DE - Other</td>\n",
       "      <td>Delaware City</td>\n",
       "      <td>/funding-round/22dacff496eb7acb2b901dec1dfe5633</td>\n",
       "      <td>venture</td>\n",
       "      <td>A</td>\n",
       "      <td>2014-10-14</td>\n",
       "      <td>NaN</td>\n",
       "    </tr>\n",
       "  </tbody>\n",
       "</table>\n",
       "</div>"
      ],
      "text/plain": [
       "        company_permalink company_name  \\\n",
       "0     /organization/-fame        #fame   \n",
       "1  /organization/-qounter     :Qounter   \n",
       "\n",
       "                               company_category_list company_country_code  \\\n",
       "0                                              Media                  IND   \n",
       "1  Application Platforms|Real Time|Social Network...                  USA   \n",
       "\n",
       "  company_state_code company_region   company_city  \\\n",
       "0                 16         Mumbai         Mumbai   \n",
       "1                 DE     DE - Other  Delaware City   \n",
       "\n",
       "                           funding_round_permalink funding_round_type  \\\n",
       "0  /funding-round/9a01d05418af9f794eebff7ace91f638            venture   \n",
       "1  /funding-round/22dacff496eb7acb2b901dec1dfe5633            venture   \n",
       "\n",
       "  funding_round_code   funded_at  raised_amount_usd  \n",
       "0                  B  2015-01-05         10000000.0  \n",
       "1                  A  2014-10-14                NaN  "
      ]
     },
     "execution_count": 6,
     "metadata": {},
     "output_type": "execute_result"
    }
   ],
   "source": [
    "crunchrounds.head(2)"
   ]
  },
  {
   "cell_type": "code",
   "execution_count": 7,
   "metadata": {
    "collapsed": false
   },
   "outputs": [
    {
     "data": {
      "text/html": [
       "<div>\n",
       "<table border=\"1\" class=\"dataframe\">\n",
       "  <thead>\n",
       "    <tr style=\"text-align: right;\">\n",
       "      <th></th>\n",
       "      <th>content</th>\n",
       "      <th>month_str</th>\n",
       "      <th>year_str</th>\n",
       "      <th>value</th>\n",
       "    </tr>\n",
       "  </thead>\n",
       "  <tbody>\n",
       "    <tr>\n",
       "      <th>0</th>\n",
       "      <td>Acquisitions</td>\n",
       "      <td>1960-01</td>\n",
       "      <td>1960</td>\n",
       "      <td>1</td>\n",
       "    </tr>\n",
       "    <tr>\n",
       "      <th>1</th>\n",
       "      <td>Acquisitions</td>\n",
       "      <td>1966-11</td>\n",
       "      <td>1966</td>\n",
       "      <td>1</td>\n",
       "    </tr>\n",
       "    <tr>\n",
       "      <th>2</th>\n",
       "      <td>Acquisitions</td>\n",
       "      <td>1967-04</td>\n",
       "      <td>1967</td>\n",
       "      <td>1</td>\n",
       "    </tr>\n",
       "    <tr>\n",
       "      <th>3</th>\n",
       "      <td>Acquisitions</td>\n",
       "      <td>1972-01</td>\n",
       "      <td>1972</td>\n",
       "      <td>1</td>\n",
       "    </tr>\n",
       "    <tr>\n",
       "      <th>4</th>\n",
       "      <td>Acquisitions</td>\n",
       "      <td>1973-01</td>\n",
       "      <td>1973</td>\n",
       "      <td>1</td>\n",
       "    </tr>\n",
       "  </tbody>\n",
       "</table>\n",
       "</div>"
      ],
      "text/plain": [
       "        content month_str  year_str  value\n",
       "0  Acquisitions   1960-01      1960      1\n",
       "1  Acquisitions   1966-11      1966      1\n",
       "2  Acquisitions   1967-04      1967      1\n",
       "3  Acquisitions   1972-01      1972      1\n",
       "4  Acquisitions   1973-01      1973      1"
      ]
     },
     "execution_count": 7,
     "metadata": {},
     "output_type": "execute_result"
    }
   ],
   "source": [
    "crunchadditions.head()"
   ]
  },
  {
   "cell_type": "code",
   "execution_count": 8,
   "metadata": {
    "collapsed": false
   },
   "outputs": [],
   "source": [
    "usinvestments = crunchinvestments[crunchinvestments[\"company_country_code\"]=='USA']\n",
    "uscompanies = crunchcompanies[crunchcompanies[\"country_code\"]=='USA']\n",
    "usaquisitions = crunchaquisitions[crunchaquisitions[\"company_country_code\"]=='USA']\n",
    "usrounds = crunchrounds[crunchrounds[\"company_country_code\"]=='USA']"
   ]
  },
  {
   "cell_type": "code",
   "execution_count": 9,
   "metadata": {
    "collapsed": false
   },
   "outputs": [
    {
     "data": {
      "text/html": [
       "<div>\n",
       "<table border=\"1\" class=\"dataframe\">\n",
       "  <thead>\n",
       "    <tr style=\"text-align: right;\">\n",
       "      <th></th>\n",
       "      <th>company_permalink</th>\n",
       "      <th>company_name</th>\n",
       "      <th>company_category_list</th>\n",
       "      <th>company_country_code</th>\n",
       "      <th>company_state_code</th>\n",
       "      <th>company_region</th>\n",
       "      <th>company_city</th>\n",
       "      <th>funding_round_permalink</th>\n",
       "      <th>funding_round_type</th>\n",
       "      <th>funding_round_code</th>\n",
       "      <th>funded_at</th>\n",
       "      <th>raised_amount_usd</th>\n",
       "    </tr>\n",
       "  </thead>\n",
       "  <tbody>\n",
       "    <tr>\n",
       "      <th>1</th>\n",
       "      <td>/organization/-qounter</td>\n",
       "      <td>:Qounter</td>\n",
       "      <td>Application Platforms|Real Time|Social Network...</td>\n",
       "      <td>USA</td>\n",
       "      <td>DE</td>\n",
       "      <td>DE - Other</td>\n",
       "      <td>Delaware City</td>\n",
       "      <td>/funding-round/22dacff496eb7acb2b901dec1dfe5633</td>\n",
       "      <td>venture</td>\n",
       "      <td>A</td>\n",
       "      <td>2014-10-14</td>\n",
       "      <td>NaN</td>\n",
       "    </tr>\n",
       "    <tr>\n",
       "      <th>2</th>\n",
       "      <td>/organization/-qounter</td>\n",
       "      <td>:Qounter</td>\n",
       "      <td>Application Platforms|Real Time|Social Network...</td>\n",
       "      <td>USA</td>\n",
       "      <td>DE</td>\n",
       "      <td>DE - Other</td>\n",
       "      <td>Delaware City</td>\n",
       "      <td>/funding-round/b44fbb94153f6cdef13083530bb48030</td>\n",
       "      <td>seed</td>\n",
       "      <td>NaN</td>\n",
       "      <td>2014-03-01</td>\n",
       "      <td>700000.0</td>\n",
       "    </tr>\n",
       "  </tbody>\n",
       "</table>\n",
       "</div>"
      ],
      "text/plain": [
       "        company_permalink company_name  \\\n",
       "1  /organization/-qounter     :Qounter   \n",
       "2  /organization/-qounter     :Qounter   \n",
       "\n",
       "                               company_category_list company_country_code  \\\n",
       "1  Application Platforms|Real Time|Social Network...                  USA   \n",
       "2  Application Platforms|Real Time|Social Network...                  USA   \n",
       "\n",
       "  company_state_code company_region   company_city  \\\n",
       "1                 DE     DE - Other  Delaware City   \n",
       "2                 DE     DE - Other  Delaware City   \n",
       "\n",
       "                           funding_round_permalink funding_round_type  \\\n",
       "1  /funding-round/22dacff496eb7acb2b901dec1dfe5633            venture   \n",
       "2  /funding-round/b44fbb94153f6cdef13083530bb48030               seed   \n",
       "\n",
       "  funding_round_code   funded_at  raised_amount_usd  \n",
       "1                  A  2014-10-14                NaN  \n",
       "2                NaN  2014-03-01           700000.0  "
      ]
     },
     "execution_count": 9,
     "metadata": {},
     "output_type": "execute_result"
    }
   ],
   "source": [
    "usrounds.head(2)"
   ]
  },
  {
   "cell_type": "code",
   "execution_count": 10,
   "metadata": {
    "collapsed": false
   },
   "outputs": [],
   "source": [
    "operating = uscompanies[uscompanies[\"status\"]=='operating']\n",
    "acquired = uscompanies[uscompanies[\"status\"]=='acquired']\n",
    "closed = uscompanies[uscompanies[\"status\"]=='closed']\n",
    "ipo = uscompanies[uscompanies[\"status\"]=='ipo']"
   ]
  },
  {
   "cell_type": "code",
   "execution_count": 11,
   "metadata": {
    "collapsed": false
   },
   "outputs": [],
   "source": [
    "statecounts = pd.DataFrame({'count': usrounds.groupby(['company_state_code']).size()}).reset_index()\n",
    "operatingcounts = pd.DataFrame({'count': operating.groupby(['state_code']).size()}).reset_index()\n",
    "acquiredcounts = pd.DataFrame({'count': acquired.groupby(['state_code']).size()}).reset_index()\n",
    "closedcounts = pd.DataFrame({'count': closed.groupby(['state_code']).size()}).reset_index()\n",
    "ipocounts = pd.DataFrame({'count': ipo.groupby(['state_code']).size()}).reset_index()"
   ]
  },
  {
   "cell_type": "code",
   "execution_count": 12,
   "metadata": {
    "collapsed": false
   },
   "outputs": [
    {
     "data": {
      "text/html": [
       "<div>\n",
       "<table border=\"1\" class=\"dataframe\">\n",
       "  <thead>\n",
       "    <tr style=\"text-align: right;\">\n",
       "      <th></th>\n",
       "      <th>company_state_code</th>\n",
       "      <th>count</th>\n",
       "    </tr>\n",
       "  </thead>\n",
       "  <tbody>\n",
       "    <tr>\n",
       "      <th>0</th>\n",
       "      <td>AK</td>\n",
       "      <td>27</td>\n",
       "    </tr>\n",
       "    <tr>\n",
       "      <th>1</th>\n",
       "      <td>AL</td>\n",
       "      <td>176</td>\n",
       "    </tr>\n",
       "    <tr>\n",
       "      <th>2</th>\n",
       "      <td>AR</td>\n",
       "      <td>237</td>\n",
       "    </tr>\n",
       "  </tbody>\n",
       "</table>\n",
       "</div>"
      ],
      "text/plain": [
       "  company_state_code  count\n",
       "0                 AK     27\n",
       "1                 AL    176\n",
       "2                 AR    237"
      ]
     },
     "execution_count": 12,
     "metadata": {},
     "output_type": "execute_result"
    }
   ],
   "source": [
    "statecounts[:3]"
   ]
  },
  {
   "cell_type": "code",
   "execution_count": 13,
   "metadata": {
    "collapsed": false
   },
   "outputs": [
    {
     "data": {
      "text/html": [
       "<div>\n",
       "<table border=\"1\" class=\"dataframe\">\n",
       "  <thead>\n",
       "    <tr style=\"text-align: right;\">\n",
       "      <th></th>\n",
       "      <th>state_code</th>\n",
       "      <th>count</th>\n",
       "    </tr>\n",
       "  </thead>\n",
       "  <tbody>\n",
       "    <tr>\n",
       "      <th>0</th>\n",
       "      <td>AL</td>\n",
       "      <td>6</td>\n",
       "    </tr>\n",
       "    <tr>\n",
       "      <th>1</th>\n",
       "      <td>AR</td>\n",
       "      <td>2</td>\n",
       "    </tr>\n",
       "    <tr>\n",
       "      <th>2</th>\n",
       "      <td>AZ</td>\n",
       "      <td>20</td>\n",
       "    </tr>\n",
       "  </tbody>\n",
       "</table>\n",
       "</div>"
      ],
      "text/plain": [
       "  state_code  count\n",
       "0         AL      6\n",
       "1         AR      2\n",
       "2         AZ     20"
      ]
     },
     "execution_count": 13,
     "metadata": {},
     "output_type": "execute_result"
    }
   ],
   "source": [
    "acquiredcounts[:3]"
   ]
  },
  {
   "cell_type": "code",
   "execution_count": 14,
   "metadata": {
    "collapsed": false
   },
   "outputs": [],
   "source": [
    "differentiatedrounds = usrounds[['company_name','company_category_list','funding_round_type',\n",
    "          'company_state_code']].groupby(['company_state_code',\n",
    "        'funding_round_type']).agg(['count'])"
   ]
  },
  {
   "cell_type": "code",
   "execution_count": 15,
   "metadata": {
    "collapsed": false
   },
   "outputs": [
    {
     "data": {
      "text/html": [
       "<div>\n",
       "<table border=\"1\" class=\"dataframe\">\n",
       "  <thead>\n",
       "    <tr>\n",
       "      <th></th>\n",
       "      <th></th>\n",
       "      <th>company_name</th>\n",
       "      <th>company_category_list</th>\n",
       "    </tr>\n",
       "    <tr>\n",
       "      <th></th>\n",
       "      <th></th>\n",
       "      <th>count</th>\n",
       "      <th>count</th>\n",
       "    </tr>\n",
       "    <tr>\n",
       "      <th>company_state_code</th>\n",
       "      <th>funding_round_type</th>\n",
       "      <th></th>\n",
       "      <th></th>\n",
       "    </tr>\n",
       "  </thead>\n",
       "  <tbody>\n",
       "    <tr>\n",
       "      <th rowspan=\"5\" valign=\"top\">AK</th>\n",
       "      <th>angel</th>\n",
       "      <td>1</td>\n",
       "      <td>1</td>\n",
       "    </tr>\n",
       "    <tr>\n",
       "      <th>debt_financing</th>\n",
       "      <td>3</td>\n",
       "      <td>2</td>\n",
       "    </tr>\n",
       "    <tr>\n",
       "      <th>equity_crowdfunding</th>\n",
       "      <td>6</td>\n",
       "      <td>6</td>\n",
       "    </tr>\n",
       "    <tr>\n",
       "      <th>post_ipo_equity</th>\n",
       "      <td>1</td>\n",
       "      <td>1</td>\n",
       "    </tr>\n",
       "    <tr>\n",
       "      <th>private_equity</th>\n",
       "      <td>1</td>\n",
       "      <td>1</td>\n",
       "    </tr>\n",
       "  </tbody>\n",
       "</table>\n",
       "</div>"
      ],
      "text/plain": [
       "                                       company_name company_category_list\n",
       "                                              count                 count\n",
       "company_state_code funding_round_type                                    \n",
       "AK                 angel                          1                     1\n",
       "                   debt_financing                 3                     2\n",
       "                   equity_crowdfunding            6                     6\n",
       "                   post_ipo_equity                1                     1\n",
       "                   private_equity                 1                     1"
      ]
     },
     "execution_count": 15,
     "metadata": {},
     "output_type": "execute_result"
    }
   ],
   "source": [
    "differentiatedrounds.head()"
   ]
  },
  {
   "cell_type": "code",
   "execution_count": 16,
   "metadata": {
    "collapsed": false
   },
   "outputs": [],
   "source": [
    "stateabbrev = pd.read_csv('state_abbreviations.csv',names=[\"fullname\",\"abbrev\",\"code\"])"
   ]
  },
  {
   "cell_type": "code",
   "execution_count": 17,
   "metadata": {
    "collapsed": false
   },
   "outputs": [],
   "source": [
    "companies_state = crunchcompanies['state_code']\n",
    "rounds_state = crunchrounds['company_state_code']\n",
    "investments_state = crunchinvestments['company_state_code']"
   ]
  },
  {
   "cell_type": "code",
   "execution_count": 18,
   "metadata": {
    "collapsed": false
   },
   "outputs": [
    {
     "data": {
      "text/html": [
       "<div>\n",
       "<table border=\"1\" class=\"dataframe\">\n",
       "  <thead>\n",
       "    <tr style=\"text-align: right;\">\n",
       "      <th></th>\n",
       "      <th>fullname</th>\n",
       "      <th>abbrev</th>\n",
       "      <th>code</th>\n",
       "    </tr>\n",
       "  </thead>\n",
       "  <tbody>\n",
       "    <tr>\n",
       "      <th>0</th>\n",
       "      <td>Alabama</td>\n",
       "      <td>Ala.</td>\n",
       "      <td>AL</td>\n",
       "    </tr>\n",
       "    <tr>\n",
       "      <th>1</th>\n",
       "      <td>Alaska</td>\n",
       "      <td>Alaska</td>\n",
       "      <td>AK</td>\n",
       "    </tr>\n",
       "    <tr>\n",
       "      <th>2</th>\n",
       "      <td>Arizona</td>\n",
       "      <td>Ariz.</td>\n",
       "      <td>AZ</td>\n",
       "    </tr>\n",
       "  </tbody>\n",
       "</table>\n",
       "</div>"
      ],
      "text/plain": [
       "  fullname  abbrev code\n",
       "0  Alabama    Ala.   AL\n",
       "1   Alaska  Alaska   AK\n",
       "2  Arizona   Ariz.   AZ"
      ]
     },
     "execution_count": 18,
     "metadata": {},
     "output_type": "execute_result"
    }
   ],
   "source": [
    "stateabbrev.head(3)"
   ]
  },
  {
   "cell_type": "code",
   "execution_count": 19,
   "metadata": {
    "collapsed": false
   },
   "outputs": [
    {
     "data": {
      "text/plain": [
       "(50, 3)"
      ]
     },
     "execution_count": 19,
     "metadata": {},
     "output_type": "execute_result"
    }
   ],
   "source": [
    "stateabbrev.shape"
   ]
  },
  {
   "cell_type": "code",
   "execution_count": 20,
   "metadata": {
    "collapsed": false
   },
   "outputs": [
    {
     "data": {
      "text/plain": [
       "(53, 2)"
      ]
     },
     "execution_count": 20,
     "metadata": {},
     "output_type": "execute_result"
    }
   ],
   "source": [
    "statecounts.shape"
   ]
  },
  {
   "cell_type": "code",
   "execution_count": 21,
   "metadata": {
    "collapsed": false
   },
   "outputs": [],
   "source": [
    "from pandasql import sqldf\n",
    "pysqldf = lambda q: sqldf(q, globals())"
   ]
  },
  {
   "cell_type": "code",
   "execution_count": 22,
   "metadata": {
    "collapsed": true
   },
   "outputs": [],
   "source": [
    "q_statecounts = \"Select * from statecounts left join stateabbrev on stateabbrev.code= statecounts.company_state_code\"\n",
    "q_operatingcounts = \"Select * from operatingcounts left join stateabbrev on stateabbrev.code= operatingcounts.state_code\"\n",
    "q_acquiredcounts = \"Select * from acquiredcounts left join stateabbrev on stateabbrev.code= acquiredcounts.state_code\"\n",
    "q_closedcounts = \"Select * from closedcounts left join stateabbrev on stateabbrev.code= closedcounts.state_code\"\n",
    "q_ipocounts = \"Select * from ipocounts left join stateabbrev on stateabbrev.code= ipocounts.state_code\""
   ]
  },
  {
   "cell_type": "code",
   "execution_count": 23,
   "metadata": {
    "collapsed": false
   },
   "outputs": [],
   "source": [
    "statecountsmatch = pysqldf(q_statecounts)\n",
    "operatingcountsmatch = pysqldf(q_operatingcounts)\n",
    "acquiredcountsmatch = pysqldf(q_acquiredcounts)\n",
    "closedcountsmatch = pysqldf(q_closedcounts)\n",
    "ipocountsmatch = pysqldf(q_ipocounts)"
   ]
  },
  {
   "cell_type": "code",
   "execution_count": 24,
   "metadata": {
    "collapsed": false
   },
   "outputs": [],
   "source": [
    "statecountsmatch.fillna(value=0,inplace=True)\n",
    "operatingcountsmatch.fillna(value=0,inplace=True)\n",
    "acquiredcountsmatch.fillna(value=0,inplace=True)\n",
    "closedcountsmatch.fillna(value=0,inplace=True)\n",
    "ipocountsmatch.fillna(value=0,inplace=True)"
   ]
  },
  {
   "cell_type": "code",
   "execution_count": 25,
   "metadata": {
    "collapsed": false
   },
   "outputs": [
    {
     "data": {
      "text/html": [
       "<div>\n",
       "<table border=\"1\" class=\"dataframe\">\n",
       "  <thead>\n",
       "    <tr style=\"text-align: right;\">\n",
       "      <th></th>\n",
       "      <th>company_state_code</th>\n",
       "      <th>count</th>\n",
       "      <th>fullname</th>\n",
       "      <th>abbrev</th>\n",
       "      <th>code</th>\n",
       "    </tr>\n",
       "  </thead>\n",
       "  <tbody>\n",
       "    <tr>\n",
       "      <th>46</th>\n",
       "      <td>VA</td>\n",
       "      <td>1302</td>\n",
       "      <td>Virginia</td>\n",
       "      <td>Va.</td>\n",
       "      <td>VA</td>\n",
       "    </tr>\n",
       "    <tr>\n",
       "      <th>47</th>\n",
       "      <td>VI</td>\n",
       "      <td>6</td>\n",
       "      <td>0</td>\n",
       "      <td>0</td>\n",
       "      <td>0</td>\n",
       "    </tr>\n",
       "    <tr>\n",
       "      <th>48</th>\n",
       "      <td>VT</td>\n",
       "      <td>110</td>\n",
       "      <td>Vermont</td>\n",
       "      <td>Vt.</td>\n",
       "      <td>VT</td>\n",
       "    </tr>\n",
       "    <tr>\n",
       "      <th>49</th>\n",
       "      <td>WA</td>\n",
       "      <td>2567</td>\n",
       "      <td>Washington</td>\n",
       "      <td>Wash.</td>\n",
       "      <td>WA</td>\n",
       "    </tr>\n",
       "    <tr>\n",
       "      <th>50</th>\n",
       "      <td>WI</td>\n",
       "      <td>448</td>\n",
       "      <td>Wisconsin</td>\n",
       "      <td>Wis.</td>\n",
       "      <td>WI</td>\n",
       "    </tr>\n",
       "    <tr>\n",
       "      <th>51</th>\n",
       "      <td>WV</td>\n",
       "      <td>27</td>\n",
       "      <td>West Virginia</td>\n",
       "      <td>W.Va.</td>\n",
       "      <td>WV</td>\n",
       "    </tr>\n",
       "    <tr>\n",
       "      <th>52</th>\n",
       "      <td>WY</td>\n",
       "      <td>32</td>\n",
       "      <td>Wyoming</td>\n",
       "      <td>Wyo.</td>\n",
       "      <td>WY</td>\n",
       "    </tr>\n",
       "  </tbody>\n",
       "</table>\n",
       "</div>"
      ],
      "text/plain": [
       "   company_state_code  count       fullname abbrev code\n",
       "46                 VA   1302       Virginia    Va.   VA\n",
       "47                 VI      6              0      0    0\n",
       "48                 VT    110        Vermont    Vt.   VT\n",
       "49                 WA   2567     Washington  Wash.   WA\n",
       "50                 WI    448      Wisconsin   Wis.   WI\n",
       "51                 WV     27  West Virginia  W.Va.   WV\n",
       "52                 WY     32        Wyoming   Wyo.   WY"
      ]
     },
     "execution_count": 25,
     "metadata": {},
     "output_type": "execute_result"
    }
   ],
   "source": [
    "# Note \"VI\" is \"Virgin Islands\" and we can ignore I think\n",
    "statecountsmatch.tail(7)"
   ]
  },
  {
   "cell_type": "code",
   "execution_count": 42,
   "metadata": {
    "collapsed": false
   },
   "outputs": [
    {
     "data": {
      "text/html": [
       "<div>\n",
       "<table border=\"1\" class=\"dataframe\">\n",
       "  <thead>\n",
       "    <tr style=\"text-align: right;\">\n",
       "      <th></th>\n",
       "      <th>state_code</th>\n",
       "      <th>count</th>\n",
       "      <th>fullname</th>\n",
       "      <th>abbrev</th>\n",
       "      <th>code</th>\n",
       "    </tr>\n",
       "  </thead>\n",
       "  <tbody>\n",
       "    <tr>\n",
       "      <th>38</th>\n",
       "      <td>UT</td>\n",
       "      <td>12</td>\n",
       "      <td>Utah</td>\n",
       "      <td>Utah</td>\n",
       "      <td>UT</td>\n",
       "    </tr>\n",
       "    <tr>\n",
       "      <th>39</th>\n",
       "      <td>VA</td>\n",
       "      <td>22</td>\n",
       "      <td>Virginia</td>\n",
       "      <td>Va.</td>\n",
       "      <td>VA</td>\n",
       "    </tr>\n",
       "    <tr>\n",
       "      <th>40</th>\n",
       "      <td>VI</td>\n",
       "      <td>1</td>\n",
       "      <td>0</td>\n",
       "      <td>0</td>\n",
       "      <td>0</td>\n",
       "    </tr>\n",
       "    <tr>\n",
       "      <th>41</th>\n",
       "      <td>VT</td>\n",
       "      <td>1</td>\n",
       "      <td>Vermont</td>\n",
       "      <td>Vt.</td>\n",
       "      <td>VT</td>\n",
       "    </tr>\n",
       "    <tr>\n",
       "      <th>42</th>\n",
       "      <td>WA</td>\n",
       "      <td>37</td>\n",
       "      <td>Washington</td>\n",
       "      <td>Wash.</td>\n",
       "      <td>WA</td>\n",
       "    </tr>\n",
       "    <tr>\n",
       "      <th>43</th>\n",
       "      <td>WI</td>\n",
       "      <td>5</td>\n",
       "      <td>Wisconsin</td>\n",
       "      <td>Wis.</td>\n",
       "      <td>WI</td>\n",
       "    </tr>\n",
       "    <tr>\n",
       "      <th>44</th>\n",
       "      <td>WV</td>\n",
       "      <td>1</td>\n",
       "      <td>West Virginia</td>\n",
       "      <td>W.Va.</td>\n",
       "      <td>WV</td>\n",
       "    </tr>\n",
       "  </tbody>\n",
       "</table>\n",
       "</div>"
      ],
      "text/plain": [
       "   state_code  count       fullname abbrev code\n",
       "38         UT     12           Utah   Utah   UT\n",
       "39         VA     22       Virginia    Va.   VA\n",
       "40         VI      1              0      0    0\n",
       "41         VT      1        Vermont    Vt.   VT\n",
       "42         WA     37     Washington  Wash.   WA\n",
       "43         WI      5      Wisconsin   Wis.   WI\n",
       "44         WV      1  West Virginia  W.Va.   WV"
      ]
     },
     "execution_count": 42,
     "metadata": {},
     "output_type": "execute_result"
    }
   ],
   "source": [
    "ipocountsmatch.tail(7)"
   ]
  },
  {
   "cell_type": "code",
   "execution_count": 43,
   "metadata": {
    "collapsed": false
   },
   "outputs": [
    {
     "data": {
      "text/html": [
       "<div>\n",
       "<table border=\"1\" class=\"dataframe\">\n",
       "  <thead>\n",
       "    <tr style=\"text-align: right;\">\n",
       "      <th></th>\n",
       "      <th>state_code</th>\n",
       "      <th>count</th>\n",
       "      <th>fullname</th>\n",
       "      <th>abbrev</th>\n",
       "      <th>code</th>\n",
       "    </tr>\n",
       "  </thead>\n",
       "  <tbody>\n",
       "    <tr>\n",
       "      <th>42</th>\n",
       "      <td>TX</td>\n",
       "      <td>158</td>\n",
       "      <td>Texas</td>\n",
       "      <td>Tex.</td>\n",
       "      <td>TX</td>\n",
       "    </tr>\n",
       "    <tr>\n",
       "      <th>43</th>\n",
       "      <td>UT</td>\n",
       "      <td>33</td>\n",
       "      <td>Utah</td>\n",
       "      <td>Utah</td>\n",
       "      <td>UT</td>\n",
       "    </tr>\n",
       "    <tr>\n",
       "      <th>44</th>\n",
       "      <td>VA</td>\n",
       "      <td>47</td>\n",
       "      <td>Virginia</td>\n",
       "      <td>Va.</td>\n",
       "      <td>VA</td>\n",
       "    </tr>\n",
       "    <tr>\n",
       "      <th>45</th>\n",
       "      <td>VT</td>\n",
       "      <td>3</td>\n",
       "      <td>Vermont</td>\n",
       "      <td>Vt.</td>\n",
       "      <td>VT</td>\n",
       "    </tr>\n",
       "    <tr>\n",
       "      <th>46</th>\n",
       "      <td>WA</td>\n",
       "      <td>108</td>\n",
       "      <td>Washington</td>\n",
       "      <td>Wash.</td>\n",
       "      <td>WA</td>\n",
       "    </tr>\n",
       "    <tr>\n",
       "      <th>47</th>\n",
       "      <td>WI</td>\n",
       "      <td>21</td>\n",
       "      <td>Wisconsin</td>\n",
       "      <td>Wis.</td>\n",
       "      <td>WI</td>\n",
       "    </tr>\n",
       "    <tr>\n",
       "      <th>48</th>\n",
       "      <td>WV</td>\n",
       "      <td>1</td>\n",
       "      <td>West Virginia</td>\n",
       "      <td>W.Va.</td>\n",
       "      <td>WV</td>\n",
       "    </tr>\n",
       "  </tbody>\n",
       "</table>\n",
       "</div>"
      ],
      "text/plain": [
       "   state_code  count       fullname abbrev code\n",
       "42         TX    158          Texas   Tex.   TX\n",
       "43         UT     33           Utah   Utah   UT\n",
       "44         VA     47       Virginia    Va.   VA\n",
       "45         VT      3        Vermont    Vt.   VT\n",
       "46         WA    108     Washington  Wash.   WA\n",
       "47         WI     21      Wisconsin   Wis.   WI\n",
       "48         WV      1  West Virginia  W.Va.   WV"
      ]
     },
     "execution_count": 43,
     "metadata": {},
     "output_type": "execute_result"
    }
   ],
   "source": [
    "closedcountsmatch.tail(7)"
   ]
  },
  {
   "cell_type": "markdown",
   "metadata": {},
   "source": [
    "## Import JSON file of map data for US states"
   ]
  },
  {
   "cell_type": "code",
   "execution_count": 26,
   "metadata": {
    "collapsed": false
   },
   "outputs": [],
   "source": [
    "import json\n",
    "usjson = json.load(open(\"us-state-centroids.json\"))"
   ]
  },
  {
   "cell_type": "code",
   "execution_count": 27,
   "metadata": {
    "collapsed": false
   },
   "outputs": [],
   "source": [
    "from collections import OrderedDict, defaultdict\n",
    "usjsondict = json.load(open(\"us-state-centroids.json\"),\n",
    "                       object_pairs_hook = OrderedDict)"
   ]
  },
  {
   "cell_type": "code",
   "execution_count": 28,
   "metadata": {
    "collapsed": false
   },
   "outputs": [],
   "source": [
    "data = pd.DataFrame(usjson[\"features\"])\n",
    "datadict = pd.DataFrame(usjsondict['features'])"
   ]
  },
  {
   "cell_type": "code",
   "execution_count": 29,
   "metadata": {
    "collapsed": false
   },
   "outputs": [],
   "source": [
    "propertiesdf = pd.DataFrame(OrderedDict(datadict['properties'])).transpose()"
   ]
  },
  {
   "cell_type": "code",
   "execution_count": 30,
   "metadata": {
    "collapsed": false
   },
   "outputs": [
    {
     "data": {
      "text/html": [
       "<div>\n",
       "<table border=\"1\" class=\"dataframe\">\n",
       "  <thead>\n",
       "    <tr style=\"text-align: right;\">\n",
       "      <th></th>\n",
       "      <th>code</th>\n",
       "      <th>name</th>\n",
       "      <th>population</th>\n",
       "    </tr>\n",
       "  </thead>\n",
       "  <tbody>\n",
       "    <tr>\n",
       "      <th>0</th>\n",
       "      <td>NaN</td>\n",
       "      <td>Alabama</td>\n",
       "      <td>4447100</td>\n",
       "    </tr>\n",
       "    <tr>\n",
       "      <th>1</th>\n",
       "      <td>NaN</td>\n",
       "      <td>Alaska</td>\n",
       "      <td>626932</td>\n",
       "    </tr>\n",
       "  </tbody>\n",
       "</table>\n",
       "</div>"
      ],
      "text/plain": [
       "  code     name population\n",
       "0  NaN  Alabama    4447100\n",
       "1  NaN   Alaska     626932"
      ]
     },
     "execution_count": 30,
     "metadata": {},
     "output_type": "execute_result"
    }
   ],
   "source": [
    "propertiesdf.head(2)"
   ]
  },
  {
   "cell_type": "markdown",
   "metadata": {},
   "source": [
    "### Join count by state data to JSON file"
   ]
  },
  {
   "cell_type": "code",
   "execution_count": 31,
   "metadata": {
    "collapsed": false
   },
   "outputs": [],
   "source": [
    "q2_statecounts = \"Select * from propertiesdf left join statecountsmatch on propertiesdf.name= statecountsmatch.fullname\"\n",
    "q2_operatingcounts = \"Select * from propertiesdf left join operatingcountsmatch on propertiesdf.name= operatingcountsmatch.fullname\"\n",
    "q2_acquiredcounts = \"Select * from propertiesdf left join acquiredcountsmatch on propertiesdf.name= acquiredcountsmatch.fullname\"\n",
    "q2_closedcounts = \"Select * from propertiesdf left join closedcountsmatch on propertiesdf.name= closedcountsmatch.fullname\"\n",
    "q2_ipocounts = \"Select * from propertiesdf left join ipocountsmatch on propertiesdf.name= ipocountsmatch.fullname\"\n",
    "\n",
    "statecountsmatched = pysqldf(q2_statecounts)\n",
    "operatingcountsmatched = pysqldf(q2_operatingcounts)\n",
    "acquiredcountsmatched = pysqldf(q2_acquiredcounts)\n",
    "closedcountsmatched = pysqldf(q2_closedcounts)\n",
    "ipocountsmatched = pysqldf(q2_ipocounts)"
   ]
  },
  {
   "cell_type": "code",
   "execution_count": 32,
   "metadata": {
    "collapsed": false
   },
   "outputs": [
    {
     "data": {
      "text/html": [
       "<div>\n",
       "<table border=\"1\" class=\"dataframe\">\n",
       "  <thead>\n",
       "    <tr style=\"text-align: right;\">\n",
       "      <th></th>\n",
       "      <th>state_code</th>\n",
       "      <th>count</th>\n",
       "      <th>fullname</th>\n",
       "      <th>abbrev</th>\n",
       "      <th>code</th>\n",
       "    </tr>\n",
       "  </thead>\n",
       "  <tbody>\n",
       "    <tr>\n",
       "      <th>0</th>\n",
       "      <td>AL</td>\n",
       "      <td>6</td>\n",
       "      <td>Alabama</td>\n",
       "      <td>Ala.</td>\n",
       "      <td>AL</td>\n",
       "    </tr>\n",
       "    <tr>\n",
       "      <th>1</th>\n",
       "      <td>AR</td>\n",
       "      <td>2</td>\n",
       "      <td>Arkansas</td>\n",
       "      <td>Ark.</td>\n",
       "      <td>AR</td>\n",
       "    </tr>\n",
       "  </tbody>\n",
       "</table>\n",
       "</div>"
      ],
      "text/plain": [
       "  state_code  count  fullname abbrev code\n",
       "0         AL      6   Alabama   Ala.   AL\n",
       "1         AR      2  Arkansas   Ark.   AR"
      ]
     },
     "execution_count": 32,
     "metadata": {},
     "output_type": "execute_result"
    }
   ],
   "source": [
    "acquiredcountsmatch.head(2)"
   ]
  },
  {
   "cell_type": "code",
   "execution_count": 33,
   "metadata": {
    "collapsed": false
   },
   "outputs": [],
   "source": [
    "statesCT = statecountsmatched[[\"name\",\"count\"]]\n",
    "operatingCT = operatingcountsmatched[[\"name\",\"count\"]]\n",
    "acquiredCT = acquiredcountsmatched[[\"name\",\"count\"]]\n",
    "closedCT = closedcountsmatched[[\"name\",\"count\"]]\n",
    "ipoCT = ipocountsmatched[[\"name\",\"count\"]]\n",
    "\n",
    "statesCTA = pd.Series(np.array(statesCT[\"count\"]),index=statesCT[\"name\"])\n",
    "operatingCTA = pd.Series(np.array(operatingCT[\"count\"]),index=statesCT[\"name\"])\n",
    "acquiredCTA = pd.Series(np.array(acquiredCT[\"count\"]),index=statesCT[\"name\"])\n",
    "closedCTA = pd.Series(np.array(closedCT[\"count\"]),index=statesCT[\"name\"])\n",
    "ipoCTA = pd.Series(np.array(ipoCT[\"count\"]),index=statesCT[\"name\"])"
   ]
  },
  {
   "cell_type": "code",
   "execution_count": 34,
   "metadata": {
    "collapsed": false
   },
   "outputs": [
    {
     "data": {
      "text/plain": [
       "name\n",
       "Wyoming        32.0\n",
       "Puerto Rico     NaN\n",
       "dtype: float64"
      ]
     },
     "execution_count": 34,
     "metadata": {},
     "output_type": "execute_result"
    }
   ],
   "source": [
    "statesCTA.tail(2)"
   ]
  },
  {
   "cell_type": "code",
   "execution_count": 77,
   "metadata": {
    "collapsed": false
   },
   "outputs": [],
   "source": [
    "colName = ['stateCode', 'counts']\n",
    "#pd.DataFrame(np.array(statecounts), columns=colName)"
   ]
  },
  {
   "cell_type": "code",
   "execution_count": 36,
   "metadata": {
    "collapsed": false
   },
   "outputs": [
    {
     "data": {
      "text/plain": [
       "4447100"
      ]
     },
     "execution_count": 36,
     "metadata": {},
     "output_type": "execute_result"
    }
   ],
   "source": [
    "usjsondict[\"features\"][0]['properties']['population']"
   ]
  },
  {
   "cell_type": "code",
   "execution_count": 37,
   "metadata": {
    "collapsed": false
   },
   "outputs": [
    {
     "data": {
      "text/plain": [
       "OrderedDict([('name', 'Alabama'), ('population', 4447100)])"
      ]
     },
     "execution_count": 37,
     "metadata": {},
     "output_type": "execute_result"
    }
   ],
   "source": [
    "usjsondict[\"features\"][0]['properties']"
   ]
  },
  {
   "cell_type": "code",
   "execution_count": 46,
   "metadata": {
    "collapsed": false
   },
   "outputs": [
    {
     "data": {
      "text/plain": [
       "2567.0"
      ]
     },
     "execution_count": 46,
     "metadata": {},
     "output_type": "execute_result"
    }
   ],
   "source": [
    "statesCTA['Washington']"
   ]
  },
  {
   "cell_type": "code",
   "execution_count": 47,
   "metadata": {
    "collapsed": false
   },
   "outputs": [
    {
     "data": {
      "text/plain": [
       "37.0"
      ]
     },
     "execution_count": 47,
     "metadata": {},
     "output_type": "execute_result"
    }
   ],
   "source": [
    "ipoCTA['Washington']"
   ]
  },
  {
   "cell_type": "code",
   "execution_count": 48,
   "metadata": {
    "collapsed": false
   },
   "outputs": [
    {
     "data": {
      "text/plain": [
       "108.0"
      ]
     },
     "execution_count": 48,
     "metadata": {},
     "output_type": "execute_result"
    }
   ],
   "source": [
    "closedCTA['Washington']"
   ]
  },
  {
   "cell_type": "code",
   "execution_count": 79,
   "metadata": {
    "collapsed": false
   },
   "outputs": [
    {
     "name": "stderr",
     "output_type": "stream",
     "text": [
      "/Users/jeffcoggshall/anaconda/envs/python35/lib/python3.5/site-packages/numpy/lib/function_base.py:3834: RuntimeWarning: Invalid value encountered in percentile\n",
      "  RuntimeWarning)\n"
     ]
    },
    {
     "data": {
      "text/plain": [
       "count      50.00000\n",
       "mean      583.12000\n",
       "std      1403.00857\n",
       "min        14.00000\n",
       "25%             NaN\n",
       "50%             NaN\n",
       "75%             NaN\n",
       "max      9498.00000\n",
       "dtype: float64"
      ]
     },
     "execution_count": 79,
     "metadata": {},
     "output_type": "execute_result"
    }
   ],
   "source": [
    "#lets get some scales for all of these\n",
    "# really should create a function that gets all the values\n",
    "# and then pipes them into the d3\n",
    "operatingCTA.describe()"
   ]
  },
  {
   "cell_type": "code",
   "execution_count": 59,
   "metadata": {
    "collapsed": false,
    "scrolled": false
   },
   "outputs": [],
   "source": [
    "import math\n",
    "# define function to put our new values into the json file\n",
    "def newJSONvalues(jsondictinput,replacevals):\n",
    "    jsondict = {}\n",
    "    jsondict = jsondictinput.copy()\n",
    "    print(\"beginning\",replacevals[\"Washington\"])\n",
    "    for idx, item in enumerate(jsondict[\"features\"]):\n",
    "        state = jsondict[\"features\"][idx]['properties']['name']\n",
    "        population = jsondict[\"features\"][idx]['properties']['population']\n",
    "        if math.isnan(replacevals[state]):\n",
    "            jsondict[\"features\"][idx]['properties']['population'] = 0\n",
    "        else:\n",
    "            jsondict[\"features\"][idx]['properties']['population'] = replacevals[state]\n",
    "    print(\"end\",replacevals[\"Washington\"])\n",
    "    return jsondict"
   ]
  },
  {
   "cell_type": "code",
   "execution_count": 65,
   "metadata": {
    "collapsed": false
   },
   "outputs": [],
   "source": [
    "#statecountsjson = newJSONvalues(usjsondict,statesCTA\n",
    "#operatingcountsjson = newJSONvalues(usjsondict,operatingCTA)\n",
    "#acquiredcountsjson = newJSONvalues(usjsondict,acquiredCTA)\n",
    "#closedcountsjson = newJSONvalues(usjsondict,closedCTA)\n",
    "#ipocountsjson = newJSONvalues(usjsondict,ipoCTA)"
   ]
  },
  {
   "cell_type": "markdown",
   "metadata": {},
   "source": [
    "### Save the JSON files\n",
    "\n",
    "*** Need to save each file individually after creating the new JSON otherwise the dictionary is overwritten ***"
   ]
  },
  {
   "cell_type": "code",
   "execution_count": 66,
   "metadata": {
    "collapsed": false
   },
   "outputs": [
    {
     "name": "stdout",
     "output_type": "stream",
     "text": [
      "beginning 2567.0\n",
      "end 2567.0\n"
     ]
    }
   ],
   "source": [
    "statecountsjson = newJSONvalues(usjsondict,statesCTA)\n",
    "f = open('statecounts.json', mode='w')\n",
    "json.dump(statecountsjson,f)\n",
    "f.close()"
   ]
  },
  {
   "cell_type": "code",
   "execution_count": 67,
   "metadata": {
    "collapsed": false
   },
   "outputs": [
    {
     "name": "stdout",
     "output_type": "stream",
     "text": [
      "beginning 947.0\n",
      "end 947.0\n"
     ]
    }
   ],
   "source": [
    "operatingcountsjson = newJSONvalues(usjsondict,operatingCTA)\n",
    "f = open('operatingcounts.json', mode='w')\n",
    "json.dump(operatingcountsjson,f)\n",
    "f.close()"
   ]
  },
  {
   "cell_type": "code",
   "execution_count": 68,
   "metadata": {
    "collapsed": false
   },
   "outputs": [
    {
     "name": "stdout",
     "output_type": "stream",
     "text": [
      "beginning 169.0\n",
      "end 169.0\n"
     ]
    }
   ],
   "source": [
    "acquiredcountsjson = newJSONvalues(usjsondict,acquiredCTA)\n",
    "f = open('acquiredcounts.json', mode='w')\n",
    "json.dump(acquiredcountsjson,f)\n",
    "f.close()"
   ]
  },
  {
   "cell_type": "code",
   "execution_count": 69,
   "metadata": {
    "collapsed": false
   },
   "outputs": [
    {
     "name": "stdout",
     "output_type": "stream",
     "text": [
      "beginning 108.0\n",
      "end 108.0\n"
     ]
    }
   ],
   "source": [
    "closedcountsjson = newJSONvalues(usjsondict,closedCTA)\n",
    "f = open('closedcounts.json', mode='w')\n",
    "json.dump(closedcountsjson,f)\n",
    "f.close()"
   ]
  },
  {
   "cell_type": "code",
   "execution_count": 70,
   "metadata": {
    "collapsed": false
   },
   "outputs": [
    {
     "name": "stdout",
     "output_type": "stream",
     "text": [
      "beginning 37.0\n",
      "end 37.0\n"
     ]
    }
   ],
   "source": [
    "ipocountsjson = newJSONvalues(usjsondict,ipoCTA)\n",
    "f = open('ipocounts.json', mode='w')\n",
    "json.dump(ipocountsjson,f)\n",
    "f.close()"
   ]
  },
  {
   "cell_type": "code",
   "execution_count": null,
   "metadata": {
    "collapsed": true
   },
   "outputs": [],
   "source": []
  }
 ],
 "metadata": {
  "kernelspec": {
   "display_name": "Python 3",
   "language": "python",
   "name": "python3"
  },
  "language_info": {
   "codemirror_mode": {
    "name": "ipython",
    "version": 3
   },
   "file_extension": ".py",
   "mimetype": "text/x-python",
   "name": "python",
   "nbconvert_exporter": "python",
   "pygments_lexer": "ipython3",
   "version": "3.5.2"
  }
 },
 "nbformat": 4,
 "nbformat_minor": 0
}
