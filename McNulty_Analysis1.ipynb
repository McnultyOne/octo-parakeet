{
 "cells": [
  {
   "cell_type": "code",
   "execution_count": 2,
   "metadata": {
    "collapsed": true
   },
   "outputs": [],
   "source": [
    "import pandas as pd\n",
    "import numpy as np"
   ]
  },
  {
   "cell_type": "code",
   "execution_count": 3,
   "metadata": {
    "collapsed": false
   },
   "outputs": [],
   "source": [
    "df = pd.read_csv('main_df_Aug1.csv')"
   ]
  },
  {
   "cell_type": "code",
   "execution_count": 61,
   "metadata": {
    "collapsed": false
   },
   "outputs": [
    {
     "data": {
      "text/html": [
       "<div>\n",
       "<table border=\"1\" class=\"dataframe\">\n",
       "  <thead>\n",
       "    <tr style=\"text-align: right;\">\n",
       "      <th></th>\n",
       "      <th>name</th>\n",
       "      <th>industry</th>\n",
       "      <th>sectorName</th>\n",
       "      <th>overallRating</th>\n",
       "      <th>compensationAndBenefitsRating</th>\n",
       "      <th>careerOpportunitiesRating</th>\n",
       "      <th>recommendToFriendRating</th>\n",
       "      <th>cultureAndValuesRating</th>\n",
       "      <th>workLifeBalanceRating</th>\n",
       "      <th>seniorLeadershipRating</th>\n",
       "      <th>...</th>\n",
       "      <th>id</th>\n",
       "      <th>industryName</th>\n",
       "      <th>industryId</th>\n",
       "      <th>ceo</th>\n",
       "      <th>ceoname</th>\n",
       "      <th>ceonumratings</th>\n",
       "      <th>ceopctapprove</th>\n",
       "      <th>ceopctdisapprove</th>\n",
       "      <th>ceotitle</th>\n",
       "      <th>goodcompany</th>\n",
       "    </tr>\n",
       "  </thead>\n",
       "  <tbody>\n",
       "    <tr>\n",
       "      <th>28635</th>\n",
       "      <td>Penzeys Spices</td>\n",
       "      <td>Vehicle Dealers</td>\n",
       "      <td>Retail</td>\n",
       "      <td>2.5</td>\n",
       "      <td>1.9</td>\n",
       "      <td>1.6</td>\n",
       "      <td>0.4</td>\n",
       "      <td>2.6</td>\n",
       "      <td>3.2</td>\n",
       "      <td>2.2</td>\n",
       "      <td>...</td>\n",
       "      <td>374624</td>\n",
       "      <td>Vehicle Dealers</td>\n",
       "      <td>200119.0</td>\n",
       "      <td>{'title': 'CEO', 'name': 'William Penzey Jr', ...</td>\n",
       "      <td>Randall L. Stephenson</td>\n",
       "      <td>5408</td>\n",
       "      <td>73</td>\n",
       "      <td>27</td>\n",
       "      <td>Chairman and CEO</td>\n",
       "      <td>0</td>\n",
       "    </tr>\n",
       "    <tr>\n",
       "      <th>28636</th>\n",
       "      <td>Bronson Methodist Hospital</td>\n",
       "      <td>Health Care Services &amp; Hospitals</td>\n",
       "      <td>Health Care</td>\n",
       "      <td>3.6</td>\n",
       "      <td>3.6</td>\n",
       "      <td>3.5</td>\n",
       "      <td>0.8</td>\n",
       "      <td>3.6</td>\n",
       "      <td>3.4</td>\n",
       "      <td>2.8</td>\n",
       "      <td>...</td>\n",
       "      <td>18231</td>\n",
       "      <td>Health Care Services &amp; Hospitals</td>\n",
       "      <td>200059.0</td>\n",
       "      <td>{'title': 'President and CEO, Bronson Healthca...</td>\n",
       "      <td>Virginia Rometty</td>\n",
       "      <td>7621</td>\n",
       "      <td>55</td>\n",
       "      <td>45</td>\n",
       "      <td>CEO</td>\n",
       "      <td>0</td>\n",
       "    </tr>\n",
       "    <tr>\n",
       "      <th>28637</th>\n",
       "      <td>Grange Insurance (Columbus)</td>\n",
       "      <td>Insurance Carriers</td>\n",
       "      <td>Insurance</td>\n",
       "      <td>3.3</td>\n",
       "      <td>3.6</td>\n",
       "      <td>2.9</td>\n",
       "      <td>0.7</td>\n",
       "      <td>3.8</td>\n",
       "      <td>3.5</td>\n",
       "      <td>2.9</td>\n",
       "      <td>...</td>\n",
       "      <td>18726</td>\n",
       "      <td>Insurance Carriers</td>\n",
       "      <td>200066.0</td>\n",
       "      <td>{'title': 'President &amp; CEO', 'name': 'Tom Welc...</td>\n",
       "      <td>Hubert Joly</td>\n",
       "      <td>4376</td>\n",
       "      <td>84</td>\n",
       "      <td>16</td>\n",
       "      <td>CEO</td>\n",
       "      <td>0</td>\n",
       "    </tr>\n",
       "    <tr>\n",
       "      <th>28638</th>\n",
       "      <td>Collaborative Consulting</td>\n",
       "      <td>Consulting</td>\n",
       "      <td>Business Services</td>\n",
       "      <td>3.9</td>\n",
       "      <td>3.8</td>\n",
       "      <td>3.4</td>\n",
       "      <td>0.8</td>\n",
       "      <td>4.0</td>\n",
       "      <td>3.8</td>\n",
       "      <td>3.8</td>\n",
       "      <td>...</td>\n",
       "      <td>30904</td>\n",
       "      <td>Consulting</td>\n",
       "      <td>200028.0</td>\n",
       "      <td>{'pctDisapprove': 8, 'numberOfRatings': 36, 't...</td>\n",
       "      <td>Craig Menear</td>\n",
       "      <td>2160</td>\n",
       "      <td>78</td>\n",
       "      <td>22</td>\n",
       "      <td>President &amp; CEO</td>\n",
       "      <td>1</td>\n",
       "    </tr>\n",
       "    <tr>\n",
       "      <th>28639</th>\n",
       "      <td>Universal Logistics Holdings</td>\n",
       "      <td>Logistics &amp; Supply Chain</td>\n",
       "      <td>Transportation &amp; Logistics</td>\n",
       "      <td>3.6</td>\n",
       "      <td>3.0</td>\n",
       "      <td>3.6</td>\n",
       "      <td>0.7</td>\n",
       "      <td>3.1</td>\n",
       "      <td>3.3</td>\n",
       "      <td>3.2</td>\n",
       "      <td>...</td>\n",
       "      <td>37852</td>\n",
       "      <td>Logistics &amp; Supply Chain</td>\n",
       "      <td>200125.0</td>\n",
       "      <td>{'title': 'CEO', 'name': 'Jeff Rogers', 'numbe...</td>\n",
       "      <td>Terry J. Lundgren</td>\n",
       "      <td>3258</td>\n",
       "      <td>67</td>\n",
       "      <td>33</td>\n",
       "      <td>Chairman &amp; CEO</td>\n",
       "      <td>0</td>\n",
       "    </tr>\n",
       "  </tbody>\n",
       "</table>\n",
       "<p>5 rows × 21 columns</p>\n",
       "</div>"
      ],
      "text/plain": [
       "                               name                          industry  \\\n",
       "28635                Penzeys Spices                   Vehicle Dealers   \n",
       "28636    Bronson Methodist Hospital  Health Care Services & Hospitals   \n",
       "28637   Grange Insurance (Columbus)                Insurance Carriers   \n",
       "28638      Collaborative Consulting                        Consulting   \n",
       "28639  Universal Logistics Holdings          Logistics & Supply Chain   \n",
       "\n",
       "                       sectorName  overallRating  \\\n",
       "28635                      Retail            2.5   \n",
       "28636                 Health Care            3.6   \n",
       "28637                   Insurance            3.3   \n",
       "28638           Business Services            3.9   \n",
       "28639  Transportation & Logistics            3.6   \n",
       "\n",
       "       compensationAndBenefitsRating  careerOpportunitiesRating  \\\n",
       "28635                            1.9                        1.6   \n",
       "28636                            3.6                        3.5   \n",
       "28637                            3.6                        2.9   \n",
       "28638                            3.8                        3.4   \n",
       "28639                            3.0                        3.6   \n",
       "\n",
       "       recommendToFriendRating  cultureAndValuesRating  workLifeBalanceRating  \\\n",
       "28635                      0.4                     2.6                    3.2   \n",
       "28636                      0.8                     3.6                    3.4   \n",
       "28637                      0.7                     3.8                    3.5   \n",
       "28638                      0.8                     4.0                    3.8   \n",
       "28639                      0.7                     3.1                    3.3   \n",
       "\n",
       "       seniorLeadershipRating     ...          id  \\\n",
       "28635                     2.2     ...      374624   \n",
       "28636                     2.8     ...       18231   \n",
       "28637                     2.9     ...       18726   \n",
       "28638                     3.8     ...       30904   \n",
       "28639                     3.2     ...       37852   \n",
       "\n",
       "                           industryName industryId  \\\n",
       "28635                   Vehicle Dealers   200119.0   \n",
       "28636  Health Care Services & Hospitals   200059.0   \n",
       "28637                Insurance Carriers   200066.0   \n",
       "28638                        Consulting   200028.0   \n",
       "28639          Logistics & Supply Chain   200125.0   \n",
       "\n",
       "                                                     ceo  \\\n",
       "28635  {'title': 'CEO', 'name': 'William Penzey Jr', ...   \n",
       "28636  {'title': 'President and CEO, Bronson Healthca...   \n",
       "28637  {'title': 'President & CEO', 'name': 'Tom Welc...   \n",
       "28638  {'pctDisapprove': 8, 'numberOfRatings': 36, 't...   \n",
       "28639  {'title': 'CEO', 'name': 'Jeff Rogers', 'numbe...   \n",
       "\n",
       "                     ceoname ceonumratings  ceopctapprove  ceopctdisapprove  \\\n",
       "28635  Randall L. Stephenson          5408             73                27   \n",
       "28636       Virginia Rometty          7621             55                45   \n",
       "28637            Hubert Joly          4376             84                16   \n",
       "28638           Craig Menear          2160             78                22   \n",
       "28639      Terry J. Lundgren          3258             67                33   \n",
       "\n",
       "               ceotitle goodcompany  \n",
       "28635  Chairman and CEO           0  \n",
       "28636               CEO           0  \n",
       "28637               CEO           0  \n",
       "28638   President & CEO           1  \n",
       "28639    Chairman & CEO           0  \n",
       "\n",
       "[5 rows x 21 columns]"
      ]
     },
     "execution_count": 61,
     "metadata": {},
     "output_type": "execute_result"
    }
   ],
   "source": [
    "df.tail(5)"
   ]
  },
  {
   "cell_type": "code",
   "execution_count": 9,
   "metadata": {
    "collapsed": true
   },
   "outputs": [],
   "source": [
    "df = df.drop(\"Unnamed: 0\",1)"
   ]
  },
  {
   "cell_type": "code",
   "execution_count": 11,
   "metadata": {
    "collapsed": false
   },
   "outputs": [
    {
     "data": {
      "text/plain": [
       "Index(['name', 'industry', 'sectorName', 'overallRating',\n",
       "       'compensationAndBenefitsRating', 'careerOpportunitiesRating',\n",
       "       'recommendToFriendRating', 'cultureAndValuesRating',\n",
       "       'workLifeBalanceRating', 'seniorLeadershipRating', 'numberOfRatings',\n",
       "       'id', 'industryName', 'industryId', 'ceo', 'ceoname', 'ceonumratings',\n",
       "       'ceopctapprove', 'ceopctdisapprove', 'ceotitle'],\n",
       "      dtype='object')"
      ]
     },
     "execution_count": 11,
     "metadata": {},
     "output_type": "execute_result"
    }
   ],
   "source": [
    "df.columns"
   ]
  },
  {
   "cell_type": "code",
   "execution_count": 13,
   "metadata": {
    "collapsed": false
   },
   "outputs": [],
   "source": [
    "#df.describe"
   ]
  },
  {
   "cell_type": "code",
   "execution_count": 46,
   "metadata": {
    "collapsed": false
   },
   "outputs": [],
   "source": [
    "ratings = pd.DataFrame(df[[\"compensationAndBenefitsRating\",\"careerOpportunitiesRating\",\"recommendToFriendRating\",\"cultureAndValuesRating\",\"workLifeBalanceRating\",\"seniorLeadershipRating\",\"ceopctapprove\",\"ceopctdisapprove\"]])"
   ]
  },
  {
   "cell_type": "code",
   "execution_count": 16,
   "metadata": {
    "collapsed": false
   },
   "outputs": [
    {
     "data": {
      "text/plain": [
       "count    28640.000000\n",
       "mean       698.802060\n",
       "std       1559.971563\n",
       "min         48.000000\n",
       "25%        165.000000\n",
       "50%        307.000000\n",
       "75%        638.000000\n",
       "max      22911.000000\n",
       "Name: numberOfRatings, dtype: float64"
      ]
     },
     "execution_count": 16,
     "metadata": {},
     "output_type": "execute_result"
    }
   ],
   "source": [
    "df[\"numberOfRatings\"].describe()"
   ]
  },
  {
   "cell_type": "code",
   "execution_count": 17,
   "metadata": {
    "collapsed": false
   },
   "outputs": [
    {
     "data": {
      "text/plain": [
       "count    28640.000000\n",
       "mean         3.300552\n",
       "std          0.499265\n",
       "min          1.400000\n",
       "25%          3.000000\n",
       "50%          3.300000\n",
       "75%          3.600000\n",
       "max          5.000000\n",
       "Name: overallRating, dtype: float64"
      ]
     },
     "execution_count": 17,
     "metadata": {},
     "output_type": "execute_result"
    }
   ],
   "source": [
    "df[\"overallRating\"].describe()"
   ]
  },
  {
   "cell_type": "code",
   "execution_count": 18,
   "metadata": {
    "collapsed": true
   },
   "outputs": [],
   "source": [
    "import numpy as np\n",
    "import pandas as pd\n",
    "import statsmodels.api as sm\n",
    "import matplotlib.pyplot as plt\n",
    "from patsy import dmatrices\n",
    "from sklearn.cross_validation import train_test_split\n",
    "%matplotlib inline\n",
    "from sklearn.ensemble import RandomForestClassifier, GradientBoostingClassifier\n",
    "from sklearn.neighbors import KNeighborsClassifier\n",
    "from sklearn.linear_model import LogisticRegression\n",
    "from sklearn import svm\n",
    "from sklearn.metrics import roc_auc_score"
   ]
  },
  {
   "cell_type": "code",
   "execution_count": 47,
   "metadata": {
    "collapsed": true
   },
   "outputs": [],
   "source": [
    "# add \"good company\" column: 1 represents good, 0 represents not\n",
    "df['goodcompany'] = (df.overallRating > 3.8).astype(int)"
   ]
  },
  {
   "cell_type": "code",
   "execution_count": 48,
   "metadata": {
    "collapsed": false
   },
   "outputs": [
    {
     "data": {
      "text/plain": [
       "Index(['compensationAndBenefitsRating', 'careerOpportunitiesRating',\n",
       "       'recommendToFriendRating', 'cultureAndValuesRating',\n",
       "       'workLifeBalanceRating', 'seniorLeadershipRating', 'ceopctapprove',\n",
       "       'ceopctdisapprove'],\n",
       "      dtype='object')"
      ]
     },
     "execution_count": 48,
     "metadata": {},
     "output_type": "execute_result"
    }
   ],
   "source": [
    "ratings.columns"
   ]
  },
  {
   "cell_type": "code",
   "execution_count": 49,
   "metadata": {
    "collapsed": true
   },
   "outputs": [],
   "source": [
    "y = df[\"goodcompany\"]\n",
    "X = ratings.loc[:,:]"
   ]
  },
  {
   "cell_type": "code",
   "execution_count": 50,
   "metadata": {
    "collapsed": false
   },
   "outputs": [],
   "source": [
    "X_train, X_test, y_train, y_test = train_test_split(X, y, test_size=0.3, random_state=42)"
   ]
  },
  {
   "cell_type": "code",
   "execution_count": 51,
   "metadata": {
    "collapsed": false
   },
   "outputs": [
    {
     "data": {
      "text/plain": [
       "SVC(C=1.0, cache_size=200, class_weight=None, coef0=0.0,\n",
       "  decision_function_shape=None, degree=3, gamma='auto', kernel='linear',\n",
       "  max_iter=-1, probability=False, random_state=None, shrinking=True,\n",
       "  tol=0.001, verbose=False)"
      ]
     },
     "execution_count": 51,
     "metadata": {},
     "output_type": "execute_result"
    }
   ],
   "source": [
    "svc = svm.SVC(kernel='linear')\n",
    "svc.fit(np.array(X_train),np.array(y_train))"
   ]
  },
  {
   "cell_type": "code",
   "execution_count": 52,
   "metadata": {
    "collapsed": false
   },
   "outputs": [
    {
     "data": {
      "text/plain": [
       "RandomForestClassifier(bootstrap=True, class_weight=None, criterion='gini',\n",
       "            max_depth=None, max_features='auto', max_leaf_nodes=None,\n",
       "            min_samples_leaf=1, min_samples_split=2,\n",
       "            min_weight_fraction_leaf=0.0, n_estimators=50, n_jobs=1,\n",
       "            oob_score=False, random_state=None, verbose=0,\n",
       "            warm_start=False)"
      ]
     },
     "execution_count": 52,
     "metadata": {},
     "output_type": "execute_result"
    }
   ],
   "source": [
    "rf = RandomForestClassifier(n_estimators=50)\n",
    "rf.fit(X_train,y_train)"
   ]
  },
  {
   "cell_type": "code",
   "execution_count": 53,
   "metadata": {
    "collapsed": false
   },
   "outputs": [
    {
     "data": {
      "text/plain": [
       "GradientBoostingClassifier(init=None, learning_rate=0.1, loss='deviance',\n",
       "              max_depth=3, max_features=None, max_leaf_nodes=None,\n",
       "              min_samples_leaf=1, min_samples_split=2,\n",
       "              min_weight_fraction_leaf=0.0, n_estimators=50,\n",
       "              presort='auto', random_state=None, subsample=1.0, verbose=0,\n",
       "              warm_start=False)"
      ]
     },
     "execution_count": 53,
     "metadata": {},
     "output_type": "execute_result"
    }
   ],
   "source": [
    "gb = GradientBoostingClassifier(n_estimators=50)\n",
    "gb.fit(X_train,y_train)"
   ]
  },
  {
   "cell_type": "code",
   "execution_count": 54,
   "metadata": {
    "collapsed": false
   },
   "outputs": [
    {
     "data": {
      "text/plain": [
       "KNeighborsClassifier(algorithm='auto', leaf_size=30, metric='minkowski',\n",
       "           metric_params=None, n_jobs=1, n_neighbors=5, p=2,\n",
       "           weights='uniform')"
      ]
     },
     "execution_count": 54,
     "metadata": {},
     "output_type": "execute_result"
    }
   ],
   "source": [
    "knn = KNeighborsClassifier()\n",
    "knn.fit(X_train,y_train)"
   ]
  },
  {
   "cell_type": "code",
   "execution_count": 55,
   "metadata": {
    "collapsed": true
   },
   "outputs": [],
   "source": [
    "comparison = pd.DataFrame(np.array(rf.predict_proba(X_test)),columns=[\"rf prob 0\",\"rf prob 1\"])"
   ]
  },
  {
   "cell_type": "code",
   "execution_count": 56,
   "metadata": {
    "collapsed": false
   },
   "outputs": [],
   "source": [
    "comparison[\"gb prob 0\"] = np.array(gb.predict_proba(X_test))[:,0]\n",
    "comparison[\"gb prob 1\"] = np.array(gb.predict_proba(X_test))[:,1]\n",
    "comparison[\"knn prob 0\"] = np.array(knn.predict_proba(X_test))[:,0]\n",
    "comparison[\"knn prob 1\"] = np.array(knn.predict_proba(X_test))[:,1]\n",
    "comparison[\"goodcompany\"] = np.array(y_test)"
   ]
  },
  {
   "cell_type": "code",
   "execution_count": 57,
   "metadata": {
    "collapsed": false
   },
   "outputs": [
    {
     "data": {
      "text/html": [
       "<div>\n",
       "<table border=\"1\" class=\"dataframe\">\n",
       "  <thead>\n",
       "    <tr style=\"text-align: right;\">\n",
       "      <th></th>\n",
       "      <th>rf prob 0</th>\n",
       "      <th>rf prob 1</th>\n",
       "      <th>gb prob 0</th>\n",
       "      <th>gb prob 1</th>\n",
       "      <th>knn prob 0</th>\n",
       "      <th>knn prob 1</th>\n",
       "      <th>goodcompany</th>\n",
       "    </tr>\n",
       "  </thead>\n",
       "  <tbody>\n",
       "    <tr>\n",
       "      <th>0</th>\n",
       "      <td>1.00</td>\n",
       "      <td>0.00</td>\n",
       "      <td>0.786171</td>\n",
       "      <td>0.213829</td>\n",
       "      <td>1.0</td>\n",
       "      <td>0.0</td>\n",
       "      <td>0</td>\n",
       "    </tr>\n",
       "    <tr>\n",
       "      <th>1</th>\n",
       "      <td>1.00</td>\n",
       "      <td>0.00</td>\n",
       "      <td>0.994164</td>\n",
       "      <td>0.005836</td>\n",
       "      <td>1.0</td>\n",
       "      <td>0.0</td>\n",
       "      <td>0</td>\n",
       "    </tr>\n",
       "    <tr>\n",
       "      <th>2</th>\n",
       "      <td>0.98</td>\n",
       "      <td>0.02</td>\n",
       "      <td>0.625807</td>\n",
       "      <td>0.374193</td>\n",
       "      <td>0.6</td>\n",
       "      <td>0.4</td>\n",
       "      <td>0</td>\n",
       "    </tr>\n",
       "    <tr>\n",
       "      <th>3</th>\n",
       "      <td>1.00</td>\n",
       "      <td>0.00</td>\n",
       "      <td>0.994164</td>\n",
       "      <td>0.005836</td>\n",
       "      <td>1.0</td>\n",
       "      <td>0.0</td>\n",
       "      <td>0</td>\n",
       "    </tr>\n",
       "    <tr>\n",
       "      <th>4</th>\n",
       "      <td>0.00</td>\n",
       "      <td>1.00</td>\n",
       "      <td>0.040625</td>\n",
       "      <td>0.959375</td>\n",
       "      <td>0.0</td>\n",
       "      <td>1.0</td>\n",
       "      <td>1</td>\n",
       "    </tr>\n",
       "  </tbody>\n",
       "</table>\n",
       "</div>"
      ],
      "text/plain": [
       "   rf prob 0  rf prob 1  gb prob 0  gb prob 1  knn prob 0  knn prob 1  \\\n",
       "0       1.00       0.00   0.786171   0.213829         1.0         0.0   \n",
       "1       1.00       0.00   0.994164   0.005836         1.0         0.0   \n",
       "2       0.98       0.02   0.625807   0.374193         0.6         0.4   \n",
       "3       1.00       0.00   0.994164   0.005836         1.0         0.0   \n",
       "4       0.00       1.00   0.040625   0.959375         0.0         1.0   \n",
       "\n",
       "   goodcompany  \n",
       "0            0  \n",
       "1            0  \n",
       "2            0  \n",
       "3            0  \n",
       "4            1  "
      ]
     },
     "execution_count": 57,
     "metadata": {},
     "output_type": "execute_result"
    }
   ],
   "source": [
    "comparison.head()"
   ]
  },
  {
   "cell_type": "code",
   "execution_count": 58,
   "metadata": {
    "collapsed": false
   },
   "outputs": [
    {
     "data": {
      "text/plain": [
       "0.98999068901303533"
      ]
     },
     "execution_count": 58,
     "metadata": {},
     "output_type": "execute_result"
    }
   ],
   "source": [
    "rf.score(X_test,y_test)"
   ]
  },
  {
   "cell_type": "code",
   "execution_count": 59,
   "metadata": {
    "collapsed": false
   },
   "outputs": [
    {
     "data": {
      "text/plain": [
       "0.96415270018621979"
      ]
     },
     "execution_count": 59,
     "metadata": {},
     "output_type": "execute_result"
    }
   ],
   "source": [
    "gb.score(X_test,y_test)"
   ]
  },
  {
   "cell_type": "code",
   "execution_count": 60,
   "metadata": {
    "collapsed": false
   },
   "outputs": [
    {
     "data": {
      "text/plain": [
       "0.97683891992551208"
      ]
     },
     "execution_count": 60,
     "metadata": {},
     "output_type": "execute_result"
    }
   ],
   "source": [
    "knn.score(X_test,y_test)"
   ]
  },
  {
   "cell_type": "code",
   "execution_count": null,
   "metadata": {
    "collapsed": true
   },
   "outputs": [],
   "source": []
  }
 ],
 "metadata": {
  "kernelspec": {
   "display_name": "Python 3",
   "language": "python",
   "name": "python3"
  },
  "language_info": {
   "codemirror_mode": {
    "name": "ipython",
    "version": 3
   },
   "file_extension": ".py",
   "mimetype": "text/x-python",
   "name": "python",
   "nbconvert_exporter": "python",
   "pygments_lexer": "ipython3",
   "version": "3.5.1"
  }
 },
 "nbformat": 4,
 "nbformat_minor": 0
}
