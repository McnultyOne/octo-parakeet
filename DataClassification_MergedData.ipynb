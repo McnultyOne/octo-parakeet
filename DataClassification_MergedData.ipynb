{
 "cells": [
  {
   "cell_type": "code",
   "execution_count": 9,
   "metadata": {
    "collapsed": true
   },
   "outputs": [],
   "source": [
    "import numpy as np\n",
    "import pandas as pd\n",
    "import statsmodels.api as sm\n",
    "import matplotlib.pyplot as plt\n",
    "from patsy import dmatrices\n",
    "from sklearn.cross_validation import train_test_split\n",
    "%matplotlib inline\n",
    "\n",
    "from bs4 import BeautifulSoup\n",
    "\n",
    "from pandasql import sqldf\n",
    "pysqldf = lambda q: sqldf(q, globals())\n",
    "\n",
    "from dateutil import parser\n"
   ]
  },
  {
   "cell_type": "markdown",
   "metadata": {},
   "source": [
    "# Loading Glassdoor Data"
   ]
  },
  {
   "cell_type": "code",
   "execution_count": 10,
   "metadata": {
    "collapsed": false
   },
   "outputs": [],
   "source": [
    "# load Glassdoor Data\n",
    "dta = pd.read_csv(\"main_df_Aug1.csv\")\n",
    "dta = dta.drop('Unnamed: 0', 1)\n",
    "dta = dta.drop_duplicates()\n"
   ]
  },
  {
   "cell_type": "code",
   "execution_count": 11,
   "metadata": {
    "collapsed": false
   },
   "outputs": [],
   "source": [
    "#dta.columns"
   ]
  },
  {
   "cell_type": "code",
   "execution_count": 12,
   "metadata": {
    "collapsed": false
   },
   "outputs": [],
   "source": [
    "#plt.hist(list(dta['overallRating']))"
   ]
  },
  {
   "cell_type": "markdown",
   "metadata": {},
   "source": [
    "# Load Crunchbase Data"
   ]
  },
  {
   "cell_type": "code",
   "execution_count": 13,
   "metadata": {
    "collapsed": false
   },
   "outputs": [],
   "source": [
    "cb_df = pd.read_csv(\"/Users/deepakgautam/octo-parakeet/Crunchbase/companies.csv\")"
   ]
  },
  {
   "cell_type": "code",
   "execution_count": 14,
   "metadata": {
    "collapsed": false
   },
   "outputs": [],
   "source": [
    "cName_df = pd.DataFrame()\n",
    "cbUSA_df = cb_df[cb_df['country_code']=='USA']"
   ]
  },
  {
   "cell_type": "code",
   "execution_count": 20,
   "metadata": {
    "collapsed": false
   },
   "outputs": [],
   "source": [
    "# creating complete category List. Single company has multiple category \n",
    "category_list = []\n",
    "for item in cbUSA_df['category_list'].str.split(\"|\").values:\n",
    "    if type(item) == list:\n",
    "        category_list.extend(item)\n",
    "\n"
   ]
  },
  {
   "cell_type": "code",
   "execution_count": 21,
   "metadata": {
    "collapsed": false
   },
   "outputs": [],
   "source": [
    "# getting category with their counts\n",
    "from collections import Counter\n",
    "category_list = Counter(category_list)"
   ]
  },
  {
   "cell_type": "code",
   "execution_count": 17,
   "metadata": {
    "collapsed": false
   },
   "outputs": [],
   "source": [
    "# getting top 100 category to use as dummy variable\n",
    "top_100_categories = category_list.most_common(100)\n",
    "top_100_category_keys = dict(top_100_categories).keys()"
   ]
  },
  {
   "cell_type": "code",
   "execution_count": 22,
   "metadata": {
    "collapsed": false
   },
   "outputs": [],
   "source": [
    "def split_categories(row, top_categories):\n",
    "    if type(row[\"category_list\"]) == str:\n",
    "        row_categories = row[\"category_list\"].split(\"|\")\n",
    "        for category in row_categories:\n",
    "            if category in top_categories:\n",
    "                row[category] = 1\n",
    "            \n",
    "    return row\n",
    "\n",
    "# Creating new dataframe with category dummy variables\n",
    "cbUSA_dfWDummy = cbUSA_df.apply(split_categories, axis=1, top_categories=top_100_category_keys)\n",
    "\n"
   ]
  },
  {
   "cell_type": "code",
   "execution_count": 23,
   "metadata": {
    "collapsed": false
   },
   "outputs": [],
   "source": [
    "# Setting all NaN values in category dummy variables to 0 \n",
    "for items in top_100_category_keys:\n",
    "    cbUSA_dfWDummy[items] = cbUSA_dfWDummy[items].fillna(0)\n"
   ]
  },
  {
   "cell_type": "code",
   "execution_count": 25,
   "metadata": {
    "collapsed": false
   },
   "outputs": [],
   "source": [
    "# getting Distinct comapny with their average ratings from GlassDoor dataframe\n",
    "\n",
    "q = \"select name, avg(overallRating) as overallRating, \\\n",
    "avg(compensationAndBenefitsRating) as compensationAndBenefitsRating,\\\n",
    "avg(careerOpportunitiesRating) as careerOpportunitiesRating, avg(recommendToFriendRating) as recommendToFriendRating, \\\n",
    "avg(cultureAndValuesRating) as cultureAndValuesRating, avg(workLifeBalanceRating) as workLifeBalanceRating, \\\n",
    "avg(seniorLeadershipRating) as seniorLeadershipRating, avg(numberOfRatings) as numberOfRatings, \\\n",
    "avg(ceonumratings) as ceonumratings, avg(ceopctapprove) as ceopctapprove from dta  \\\n",
    "group by name\"\n",
    "\n",
    "distinct_glassdoorDf = pysqldf(q)\n"
   ]
  },
  {
   "cell_type": "code",
   "execution_count": 29,
   "metadata": {
    "collapsed": false
   },
   "outputs": [],
   "source": [
    "# Getting median glassdoor ratings \n",
    "\n",
    "ovllRatingMedian = distinct_glassdoorDf['overallRating'].median()\n",
    "compBenRatingMedian = distinct_glassdoorDf['compensationAndBenefitsRating'].median()\n",
    "carOppRatingMedian = distinct_glassdoorDf['careerOpportunitiesRating'].median()\n",
    "recFriendRatingMedian = distinct_glassdoorDf['recommendToFriendRating'].median()\n",
    "culValRatingMedian = distinct_glassdoorDf['cultureAndValuesRating'].median()\n",
    "wLifeBalRatingMedian = distinct_glassdoorDf['workLifeBalanceRating'].median()\n",
    "sLeaderRatingMedian = distinct_glassdoorDf['seniorLeadershipRating'].median()\n",
    "numRatingMedian = distinct_glassdoorDf['numberOfRatings'].median()\n",
    "ceoNumRatingMedian = distinct_glassdoorDf['ceonumratings'].median()\n",
    "ceoApprovalPctMedian = distinct_glassdoorDf['ceopctapprove'].median()\n",
    "\n"
   ]
  },
  {
   "cell_type": "code",
   "execution_count": 30,
   "metadata": {
    "collapsed": false
   },
   "outputs": [],
   "source": [
    "#cbUSA_dfWDummy.columns\n",
    "#cbUSA_df.columns"
   ]
  },
  {
   "cell_type": "code",
   "execution_count": 33,
   "metadata": {
    "collapsed": false
   },
   "outputs": [],
   "source": [
    "# Setting up final table to send to classification models\n",
    "modelCB_df = cbUSA_dfWDummy\n",
    "\n",
    "# dropping irrelevent columns\n",
    "modelCB_df = modelCB_df.drop('permalink', 1)\n",
    "modelCB_df = modelCB_df.drop('homepage_url', 1)\n",
    "modelCB_df = modelCB_df.drop('category_list', 1)\n",
    "modelCB_df = modelCB_df.drop('country_code', 1)\n",
    "modelCB_df = modelCB_df.drop('state_code', 1)\n",
    "modelCB_df = modelCB_df.drop('region', 1)\n",
    "modelCB_df = modelCB_df.drop('city', 1)\n",
    "\n",
    "# cleaning total funding column\n",
    "modelCB_df['funding_total_usd'] = pd.to_numeric(modelCB_df['funding_total_usd'],errors='coerce')\n",
    "\n",
    "# generating status id = 0 if company is closed , 1 otherwise \n",
    "modelCB_df['statusID'] = np.where(modelCB_df['status']=='closed', 0, 1)\n",
    "\n",
    "#changing columns to date time and creating new columns with date diff\n",
    "modelCB_df['founded_at'] = pd.to_datetime(modelCB_df['founded_at'], format=\"%Y-%m-%d\", errors='coerce')\n",
    "modelCB_df['first_funding_at'] = pd.to_datetime(modelCB_df['first_funding_at'], format=\"%Y-%m-%d\", errors='coerce')\n",
    "modelCB_df['last_funding_at'] = pd.to_datetime(modelCB_df['last_funding_at'], format=\"%Y-%m-%d\", errors='coerce')\n",
    "modelCB_df['daysToFirstFunding'] = (modelCB_df['founded_at'] - modelCB_df['first_funding_at'])/ np.timedelta64(-1, 'D')\n",
    "modelCB_df['daysBetweenFirstLastFunding'] = (modelCB_df['first_funding_at'] - modelCB_df['last_funding_at'])/ np.timedelta64(-1, 'D')\n",
    "\n",
    "# Apply median days  First Funding and Days Between to NaN values\n",
    "firstFundingMedian = modelCB_df['daysToFirstFunding'].median()\n",
    "lastFundingMedian = modelCB_df['daysBetweenFirstLastFunding'].median()\n",
    "modelCB_df['daysToFirstFunding'] = modelCB_df['daysToFirstFunding'].fillna(firstFundingMedian)\n",
    "modelCB_df['daysBetweenFirstLastFunding'] = modelCB_df['daysBetweenFirstLastFunding'].fillna(lastFundingMedian)\n",
    "\n",
    "\n",
    "\n",
    "# Drop status, founded_at, first_funding_at, last_funding_at\n",
    "modelCB_df = modelCB_df.drop('status', 1)\n",
    "modelCB_df = modelCB_df.drop('founded_at', 1)\n",
    "modelCB_df = modelCB_df.drop('first_funding_at', 1)\n",
    "modelCB_df = modelCB_df.drop('last_funding_at', 1)\n"
   ]
  },
  {
   "cell_type": "code",
   "execution_count": 32,
   "metadata": {
    "collapsed": false
   },
   "outputs": [],
   "source": [
    "# joining with glassdoor data\n",
    "q = 'select * from modelCB_df left join distinct_glassdoorDf on modelCB_df.name = distinct_glassdoorDf.name'\n",
    "finalTable = pysqldf(q)\n",
    "\n",
    "#drop name from final table\n",
    "finalTable = finalTable.drop('name',1)\n"
   ]
  },
  {
   "cell_type": "code",
   "execution_count": 35,
   "metadata": {
    "collapsed": true
   },
   "outputs": [],
   "source": [
    "# fill Glassdoor na values with median ratings\n",
    "finalTable['overallRating'] = finalTable['overallRating'].fillna(ovllRatingMedian) \n",
    "finalTable['compensationAndBenefitsRating'] = finalTable['compensationAndBenefitsRating'].fillna(compBenRatingMedian) \n",
    "finalTable['careerOpportunitiesRating'] = finalTable['careerOpportunitiesRating'].fillna(carOppRatingMedian)  \n",
    "finalTable['recommendToFriendRating'] = finalTable['recommendToFriendRating'].fillna(recFriendRatingMedian) \n",
    "finalTable['cultureAndValuesRating'] = finalTable['cultureAndValuesRating'].fillna(culValRatingMedian) \n",
    "finalTable['workLifeBalanceRating'] = finalTable['workLifeBalanceRating'].fillna(wLifeBalRatingMedian)  \n",
    "finalTable['seniorLeadershipRating'] = finalTable['seniorLeadershipRating'].fillna(sLeaderRatingMedian)  \n",
    "finalTable['numberOfRatings'] = finalTable['numberOfRatings'].fillna(numRatingMedian)  \n",
    "finalTable['ceonumratings'] = finalTable['ceonumratings'].fillna(ceoNumRatingMedian)  \n",
    "finalTable['ceopctapprove'] = finalTable['ceopctapprove'].fillna(ceoApprovalPctMedian)  "
   ]
  },
  {
   "cell_type": "markdown",
   "metadata": {},
   "source": [
    "# Classification Models"
   ]
  },
  {
   "cell_type": "code",
   "execution_count": 36,
   "metadata": {
    "collapsed": true
   },
   "outputs": [],
   "source": [
    "from sklearn.ensemble import RandomForestClassifier, GradientBoostingClassifier\n",
    "from sklearn.linear_model import LogisticRegression\n",
    "from sklearn.metrics import roc_auc_score, roc_curve\n",
    "%matplotlib inline"
   ]
  },
  {
   "cell_type": "code",
   "execution_count": 37,
   "metadata": {
    "collapsed": true
   },
   "outputs": [],
   "source": [
    "## Here are the precision-recall curve and log-likelihood computation functions\n",
    "\n",
    "import numpy as np\n",
    "import matplotlib.pyplot as plt\n",
    "\n",
    "\n",
    "def pr_curve(truthvec, scorevec, digit_prec=2):\n",
    "    threshvec = np.unique(np.round(scorevec,digit_prec))\n",
    "    numthresh = len(threshvec)\n",
    "    tpvec = np.zeros(numthresh)\n",
    "    fpvec = np.zeros(numthresh)\n",
    "    fnvec = np.zeros(numthresh)\n",
    "\n",
    "    for i in range(numthresh):\n",
    "        thresh = threshvec[i]\n",
    "        tpvec[i] = sum(truthvec[scorevec>=thresh])\n",
    "        fpvec[i] = sum(1-truthvec[scorevec>=thresh])\n",
    "        fnvec[i] = sum(truthvec[scorevec<thresh])\n",
    "    recallvec = tpvec/(tpvec + fnvec)\n",
    "    precisionvec = tpvec/(tpvec + fpvec)\n",
    "    plt.plot(precisionvec,recallvec)\n",
    "    plt.axis([0, 1, 0, 1])\n",
    "    return (recallvec, precisionvec, threshvec)\n",
    "\n",
    "def log_lik_binary(truthvec, probvec):\n",
    "    return np.sum((np.log(probvec)*truthvec) + (np.log(1-probvec)*(1-truthvec)))"
   ]
  },
  {
   "cell_type": "markdown",
   "metadata": {},
   "source": [
    "### Test Train Split"
   ]
  },
  {
   "cell_type": "code",
   "execution_count": 38,
   "metadata": {
    "collapsed": false
   },
   "outputs": [],
   "source": [
    "L = finalTable.dropna()\n",
    "X = L.drop('statusID',1)\n",
    "y = L['statusID']\n",
    "X_train, X_test, y_train, y_test = train_test_split(X, y, test_size=0.3, random_state=42)"
   ]
  },
  {
   "cell_type": "markdown",
   "metadata": {},
   "source": [
    "# Logistic Regression"
   ]
  },
  {
   "cell_type": "code",
   "execution_count": 47,
   "metadata": {
    "collapsed": false
   },
   "outputs": [],
   "source": [
    "#Logistic Regression\n",
    "model_lr = LogisticRegression()\n",
    "model_lr.fit(X_train, y_train)\n",
    "pred_vals_lr = model_lr.predict_proba(X_test)"
   ]
  },
  {
   "cell_type": "code",
   "execution_count": 48,
   "metadata": {
    "collapsed": false
   },
   "outputs": [
    {
     "data": {
      "text/plain": [
       "-2591.38330100819"
      ]
     },
     "execution_count": 48,
     "metadata": {},
     "output_type": "execute_result"
    }
   ],
   "source": [
    "log_lik_binary(y_test,pred_vals_lr[:,1])"
   ]
  },
  {
   "cell_type": "code",
   "execution_count": 49,
   "metadata": {
    "collapsed": false
   },
   "outputs": [
    {
     "data": {
      "image/png": "[encoded data removed]",
      "text/plain": [
       "<matplotlib.figure.Figure at 0x126e40240>"
      ]
     },
     "metadata": {},
     "output_type": "display_data"
    }
   ],
   "source": [
    "pr_curve(y_test,pred_vals_lr[:,1]);"
   ]
  },
  {
   "cell_type": "code",
   "execution_count": 51,
   "metadata": {
    "collapsed": false
   },
   "outputs": [
    {
     "data": {
      "text/plain": [
       "[<matplotlib.lines.Line2D at 0x1275caf28>]"
      ]
     },
     "execution_count": 51,
     "metadata": {},
     "output_type": "execute_result"
    },
    {
     "data": {
      "image/png": "[encoded data removed]",
      "text/plain": [
       "<matplotlib.figure.Figure at 0x1271ff588>"
      ]
     },
     "metadata": {},
     "output_type": "display_data"
    }
   ],
   "source": [
    "fpr, tpr, thresholds = roc_curve(y_test,pred_vals_lr[:,1])\n",
    "plt.plot(fpr, tpr)"
   ]
  },
  {
   "cell_type": "code",
   "execution_count": 52,
   "metadata": {
    "collapsed": false
   },
   "outputs": [
    {
     "data": {
      "text/plain": [
       "0.58970786898919325"
      ]
     },
     "execution_count": 52,
     "metadata": {},
     "output_type": "execute_result"
    }
   ],
   "source": [
    "roc_auc_score(y_test,pred_vals_lr[:,1])"
   ]
  },
  {
   "cell_type": "code",
   "execution_count": null,
   "metadata": {
    "collapsed": true
   },
   "outputs": [],
   "source": []
  }
 ],
 "metadata": {
  "kernelspec": {
   "display_name": "Python 3",
   "language": "python",
   "name": "python3"
  },
  "language_info": {
   "codemirror_mode": {
    "name": "ipython",
    "version": 3
   },
   "file_extension": ".py",
   "mimetype": "text/x-python",
   "name": "python",
   "nbconvert_exporter": "python",
   "pygments_lexer": "ipython3",
   "version": "3.5.1"
  }
 },
 "nbformat": 4,
 "nbformat_minor": 0
}
